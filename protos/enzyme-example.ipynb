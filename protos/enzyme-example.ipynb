{
 "cells": [
  {
   "cell_type": "code",
   "execution_count": 10,
   "id": "7a1d3146",
   "metadata": {},
   "outputs": [
    {
     "data": {
      "text/plain": [
       "()"
      ]
     },
     "execution_count": 10,
     "metadata": {},
     "output_type": "execute_result"
    }
   ],
   "source": [
    "using Enzyme\n",
    "\n",
    "function mymul!(R, A, B)\n",
    "    @assert axes(A,2) == axes(B,1)\n",
    "    @inbounds @simd for i in eachindex(R)\n",
    "        R[i] = 0\n",
    "    end\n",
    "    @inbounds for j in axes(B, 2), i in axes(A, 1)\n",
    "        @inbounds @simd for k in axes(A,2)\n",
    "            R[i,j] += A[i,k] * B[k,j]\n",
    "        end\n",
    "    end\n",
    "    nothing\n",
    "end\n",
    "\n",
    "\n",
    "A = rand(5, 3)\n",
    "B = rand(3, 7)\n",
    "\n",
    "R = zeros(size(A,1), size(B,2))\n",
    "∂z_∂R = rand(size(R)...)  # Some gradient/tangent passed to us\n",
    "\n",
    "∂z_∂A = zero(A)\n",
    "∂z_∂B = zero(B)\n",
    "\n",
    "Enzyme.autodiff(mymul!, Const, Duplicated(R, ∂z_∂R), Duplicated(A, ∂z_∂A), Duplicated(B, ∂z_∂B))\n"
   ]
  },
  {
   "cell_type": "code",
   "execution_count": 11,
   "id": "2aedc5e6",
   "metadata": {},
   "outputs": [
    {
     "data": {
      "text/plain": [
       "5×7 Matrix{Float64}:\n",
       " 0.123779   0.329524  0.460547  0.367101  0.275423  0.514569  0.731231\n",
       " 0.95949    0.57559   0.209324  0.519637  0.276184  0.743882  0.626408\n",
       " 0.12998    0.747305  0.400288  0.50996   0.25594   0.562621  0.103458\n",
       " 0.0886988  0.525744  0.315356  0.1598    0.73415   0.175436  0.4385\n",
       " 0.963093   0.476419  0.271699  0.25318   0.577619  0.144234  0.639175"
      ]
     },
     "execution_count": 11,
     "metadata": {},
     "output_type": "execute_result"
    }
   ],
   "source": [
    "R ≈ A * B            &&\n",
    "∂z_∂A ≈ ∂z_∂R * B'   &&  # equivalent to Zygote.pullback(*, A, B)[2](∂z_∂R)[1]\n",
    "∂z_∂B ≈ A' * ∂z_∂R\n",
    "\n",
    "∂z_∂R"
   ]
  },
  {
   "cell_type": "code",
   "execution_count": 12,
   "id": "371a60c8",
   "metadata": {},
   "outputs": [
    {
     "data": {
      "text/plain": [
       "5×3 Matrix{Float64}:\n",
       " 1.64251  1.17322  1.33067\n",
       " 2.49763  1.96165  1.82145\n",
       " 1.65402  1.1845   0.961165\n",
       " 1.51159  1.07727  0.930032\n",
       " 2.3609   1.63768  1.40276"
      ]
     },
     "execution_count": 12,
     "metadata": {},
     "output_type": "execute_result"
    }
   ],
   "source": [
    "∂z_∂A"
   ]
  },
  {
   "cell_type": "code",
   "execution_count": 13,
   "id": "8d7f023a",
   "metadata": {},
   "outputs": [
    {
     "data": {
      "text/plain": [
       "3×7 Matrix{Float64}:\n",
       " 0.773711  1.27368   0.89502   0.976215  0.884031  1.27082   1.27129\n",
       " 0.801969  1.4395    0.905708  0.938414  1.07071   1.09065   1.09024\n",
       " 0.541953  0.800244  0.424186  0.433145  0.808946  0.556889  0.714365"
      ]
     },
     "execution_count": 13,
     "metadata": {},
     "output_type": "execute_result"
    }
   ],
   "source": [
    "∂z_∂B"
   ]
  },
  {
   "cell_type": "code",
   "execution_count": 14,
   "id": "a65259f5",
   "metadata": {},
   "outputs": [
    {
     "data": {
      "text/plain": [
       "5×7 Matrix{Float64}:\n",
       " 1.24336   0.719504  0.97784   0.741751  0.851008  0.58853   0.581777\n",
       " 0.967855  0.518017  0.71092   0.536223  0.662391  0.700023  0.693226\n",
       " 1.20892   0.638486  0.822161  0.523279  0.886068  0.853798  0.534743\n",
       " 1.31441   0.634505  0.841057  0.556395  0.943817  1.29484   1.04883\n",
       " 0.253377  0.114004  0.129103  0.041746  0.206314  0.268417  0.0918177"
      ]
     },
     "execution_count": 14,
     "metadata": {},
     "output_type": "execute_result"
    }
   ],
   "source": [
    "R"
   ]
  },
  {
   "cell_type": "code",
   "execution_count": 15,
   "id": "49150ab8",
   "metadata": {},
   "outputs": [
    {
     "data": {
      "text/plain": [
       "5×7 Matrix{Float64}:\n",
       " 0.123779   0.329524  0.460547  0.367101  0.275423  0.514569  0.731231\n",
       " 0.95949    0.57559   0.209324  0.519637  0.276184  0.743882  0.626408\n",
       " 0.12998    0.747305  0.400288  0.50996   0.25594   0.562621  0.103458\n",
       " 0.0886988  0.525744  0.315356  0.1598    0.73415   0.175436  0.4385\n",
       " 0.963093   0.476419  0.271699  0.25318   0.577619  0.144234  0.639175"
      ]
     },
     "execution_count": 15,
     "metadata": {},
     "output_type": "execute_result"
    }
   ],
   "source": [
    "∂z_∂R"
   ]
  },
  {
   "cell_type": "code",
   "execution_count": 18,
   "id": "177717f5",
   "metadata": {},
   "outputs": [
    {
     "data": {
      "text/plain": [
       "3×7 Matrix{Float64}:\n",
       " 0.773711  1.27368   0.89502   0.976215  0.884031  1.27082   1.27129\n",
       " 0.801969  1.4395    0.905708  0.938414  1.07071   1.09065   1.09024\n",
       " 0.541953  0.800244  0.424186  0.433145  0.808946  0.556889  0.714365"
      ]
     },
     "execution_count": 18,
     "metadata": {},
     "output_type": "execute_result"
    }
   ],
   "source": [
    "using Zygote\n",
    "Zygote.pullback(*, A, B)[2](∂z_∂R)[2]"
   ]
  },
  {
   "cell_type": "code",
   "execution_count": null,
   "id": "4da6ee3d",
   "metadata": {},
   "outputs": [],
   "source": []
  }
 ],
 "metadata": {
  "kernelspec": {
   "display_name": "Julia 1.6.2",
   "language": "julia",
   "name": "julia-1.6"
  },
  "language_info": {
   "file_extension": ".jl",
   "mimetype": "application/julia",
   "name": "julia",
   "version": "1.6.2"
  }
 },
 "nbformat": 4,
 "nbformat_minor": 5
}
