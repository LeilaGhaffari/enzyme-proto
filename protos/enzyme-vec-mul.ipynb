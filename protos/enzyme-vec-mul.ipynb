{
 "cells": [
  {
   "cell_type": "code",
   "execution_count": 1,
   "id": "7a1d3146",
   "metadata": {},
   "outputs": [
    {
     "data": {
      "text/plain": [
       "vecmul! (generic function with 1 method)"
      ]
     },
     "metadata": {},
     "output_type": "display_data"
    }
   ],
   "source": [
    "using Enzyme\n",
    "\n",
    "function vecmul!(c, a, b)\n",
    "    c .= a .* b\n",
    "    nothing\n",
    "end"
   ]
  },
  {
   "cell_type": "code",
   "execution_count": 2,
   "id": "b45a4a6d",
   "metadata": {},
   "outputs": [
    {
     "data": {
      "text/plain": [
       "5-element Vector{Float64}:\n",
       " 0.574247155207933\n",
       " 0.5037799143034898\n",
       " 0.40952454591200377\n",
       " 0.16861160527749985\n",
       " 0.011693261756517024"
      ]
     },
     "metadata": {},
     "output_type": "display_data"
    }
   ],
   "source": [
    "n = 5\n",
    "a = rand(n); b = rand(n); c = zeros(n)\n",
    "vecmul!(c, a, b)\n",
    "c"
   ]
  },
  {
   "cell_type": "code",
   "execution_count": 3,
   "id": "f2242718",
   "metadata": {},
   "outputs": [
    {
     "data": {
      "text/plain": [
       "5-element Vector{Float64}:\n",
       " 1.0\n",
       " 1.0\n",
       " 1.0\n",
       " 1.0\n",
       " 1.0"
      ]
     },
     "metadata": {},
     "output_type": "display_data"
    }
   ],
   "source": [
    "da = zero(a); db = zero(b); dc = fill!(similar(c), 1)"
   ]
  },
  {
   "cell_type": "code",
   "execution_count": 4,
   "id": "d702e585",
   "metadata": {},
   "outputs": [
    {
     "data": {
      "text/plain": [
       "()"
      ]
     },
     "metadata": {},
     "output_type": "display_data"
    }
   ],
   "source": [
    "autodiff(vecmul!, Const, Duplicated(c, dc), Duplicated(a, da), Duplicated(b, db))"
   ]
  },
  {
   "cell_type": "code",
   "execution_count": 5,
   "id": "177717f5",
   "metadata": {},
   "outputs": [
    {
     "data": {
      "text/plain": [
       "true"
      ]
     },
     "metadata": {},
     "output_type": "display_data"
    }
   ],
   "source": [
    "da == b"
   ]
  },
  {
   "cell_type": "code",
   "execution_count": 6,
   "id": "0e790deb",
   "metadata": {},
   "outputs": [
    {
     "data": {
      "text/plain": [
       "true"
      ]
     },
     "metadata": {},
     "output_type": "display_data"
    }
   ],
   "source": [
    "db == a"
   ]
  },
  {
   "cell_type": "code",
   "execution_count": 7,
   "id": "9d023393",
   "metadata": {},
   "outputs": [
    {
     "data": {
      "text/plain": [
       "true"
      ]
     },
     "metadata": {},
     "output_type": "display_data"
    }
   ],
   "source": [
    "dc == zeros(n)"
   ]
  },
  {
   "cell_type": "code",
   "execution_count": 8,
   "id": "0e513317",
   "metadata": {},
   "outputs": [],
   "source": []
  }
 ],
 "metadata": {
  "kernelspec": {
   "display_name": "Julia 1.6.2",
   "language": "julia",
   "name": "julia-1.6"
  },
  "language_info": {
   "file_extension": ".jl",
   "mimetype": "application/julia",
   "name": "julia",
   "version": "1.6.2"
  }
 },
 "nbformat": 4,
 "nbformat_minor": 5
}
