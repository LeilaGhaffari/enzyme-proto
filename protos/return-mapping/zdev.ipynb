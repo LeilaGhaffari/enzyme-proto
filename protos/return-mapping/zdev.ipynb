{
 "cells": [
  {
   "cell_type": "code",
   "execution_count": 1,
   "metadata": {},
   "outputs": [],
   "source": [
    "using LinearAlgebra\n"
   ]
  },
  {
   "cell_type": "code",
   "execution_count": 2,
   "metadata": {},
   "outputs": [],
   "source": [
    "params = [ 1.5e+09 1.6e+09 1.633 0 1.633 0 306.19 8 2 2 3 ]\n",
    "\n",
    "nstress = Int(params[9]);\n",
    "ndim    = Int(params[11]);"
   ]
  },
  {
   "cell_type": "code",
   "execution_count": 3,
   "metadata": {},
   "outputs": [
    {
     "name": "stdout",
     "output_type": "stream",
     "text": [
      "1\n",
      "2\n",
      "3\n"
     ]
    }
   ],
   "source": [
    "for i=1:3\n",
    "    println(i)\n",
    "end"
   ]
  },
  {
   "cell_type": "code",
   "execution_count": 4,
   "metadata": {},
   "outputs": [
    {
     "data": {
      "text/plain": [
       "11×1 adjoint(::Matrix{Float64}) with eltype Float64:\n",
       "   1.5e9\n",
       "   1.6e9\n",
       "   1.633\n",
       "   0.0\n",
       "   1.633\n",
       "   0.0\n",
       " 306.19\n",
       "   8.0\n",
       "   2.0\n",
       "   2.0\n",
       "   3.0"
      ]
     },
     "execution_count": 4,
     "metadata": {},
     "output_type": "execute_result"
    }
   ],
   "source": [
    "params'"
   ]
  },
  {
   "cell_type": "code",
   "execution_count": 5,
   "metadata": {},
   "outputs": [
    {
     "data": {
      "text/plain": [
       "11×1 transpose(::Matrix{Float64}) with eltype Float64:\n",
       "   1.5e9\n",
       "   1.6e9\n",
       "   1.633\n",
       "   0.0\n",
       "   1.633\n",
       "   0.0\n",
       " 306.19\n",
       "   8.0\n",
       "   2.0\n",
       "   2.0\n",
       "   3.0"
      ]
     },
     "execution_count": 5,
     "metadata": {},
     "output_type": "execute_result"
    }
   ],
   "source": [
    "transpose(params)"
   ]
  },
  {
   "cell_type": "code",
   "execution_count": 6,
   "metadata": {},
   "outputs": [
    {
     "data": {
      "text/plain": [
       "3"
      ]
     },
     "execution_count": 6,
     "metadata": {},
     "output_type": "execute_result"
    }
   ],
   "source": [
    "    lambda  = params[1];\n",
    "    mu      = params[2];\n",
    "    Aphi    = params[3];\n",
    "    Bphi    = params[4];\n",
    "    Apsi    = params[5];\n",
    "    Bpsi    = params[6];\n",
    "    Hc      = params[7];\n",
    "    nstress = Int(params[9 ]);\n",
    "    nisv    = Int(params[10]);\n",
    "    ndim    = Int(params[11])"
   ]
  },
  {
   "cell_type": "code",
   "execution_count": 7,
   "metadata": {},
   "outputs": [
    {
     "data": {
      "text/plain": [
       "1×3 Matrix{Float64}:\n",
       " -0.57735  -0.57735  0.57735"
      ]
     },
     "execution_count": 7,
     "metadata": {},
     "output_type": "execute_result"
    }
   ],
   "source": [
    "X = [-1 -1  1] / sqrt(3)"
   ]
  },
  {
   "cell_type": "code",
   "execution_count": 8,
   "metadata": {},
   "outputs": [
    {
     "data": {
      "text/plain": [
       "3×3 Matrix{Float64}:\n",
       " 0.00614745  0.225921  0.837185\n",
       " 0.648393    0.951914  0.227544\n",
       " 0.455461    0.282014  0.985972"
      ]
     },
     "execution_count": 8,
     "metadata": {},
     "output_type": "execute_result"
    }
   ],
   "source": [
    "A = rand(3,3)"
   ]
  },
  {
   "cell_type": "code",
   "execution_count": 9,
   "metadata": {},
   "outputs": [
    {
     "data": {
      "text/plain": [
       "3-element Vector{Float64}:\n",
       " -0.3087969312653249\n",
       "  0.6631303718593321\n",
       "  1.5896992590428736"
      ]
     },
     "execution_count": 9,
     "metadata": {},
     "output_type": "execute_result"
    }
   ],
   "source": [
    "eigvals(A)"
   ]
  },
  {
   "cell_type": "code",
   "execution_count": 10,
   "metadata": {},
   "outputs": [
    {
     "data": {
      "text/plain": [
       "3×3 Matrix{Float64}:\n",
       "  0.883025   0.240099  -0.424221\n",
       " -0.414373  -0.873224  -0.654541\n",
       " -0.220367   0.424066  -0.625789"
      ]
     },
     "execution_count": 10,
     "metadata": {},
     "output_type": "execute_result"
    }
   ],
   "source": [
    "eigvecs(A)"
   ]
  },
  {
   "cell_type": "code",
   "execution_count": 11,
   "metadata": {},
   "outputs": [
    {
     "data": {
      "text/plain": [
       "2×3 Matrix{Int64}:\n",
       " 1  2  3\n",
       " 4  5  6"
      ]
     },
     "execution_count": 11,
     "metadata": {},
     "output_type": "execute_result"
    }
   ],
   "source": [
    "B = [1 2 3;\n",
    "     4 5 6]"
   ]
  },
  {
   "cell_type": "code",
   "execution_count": 12,
   "metadata": {},
   "outputs": [
    {
     "data": {
      "text/plain": [
       "grad_basis_linear (generic function with 1 method)"
      ]
     },
     "execution_count": 12,
     "metadata": {},
     "output_type": "execute_result"
    }
   ],
   "source": [
    "function grad_basis_linear(xi)\n",
    "\n",
    "    # derivatives of shape functions with respect to xi\n",
    "    dN1_dxi = -0.125*(1-xi[2])*(1-xi[3]);\n",
    "    dN2_dxi = -dN1_dxi;\n",
    "    dN3_dxi = 0.125*(1+xi[2])*(1-xi[3]);\n",
    "    dN4_dxi = -dN3_dxi;\n",
    "    dN5_dxi = -0.125*(1-xi[2])*(1+xi[3]);\n",
    "    dN6_dxi = -dN5_dxi;\n",
    "    dN7_dxi = 0.125*(1+xi[2])*(1+xi[3]);\n",
    "    dN8_dxi = -dN7_dxi;\n",
    "\n",
    "    # derivatives of shape functions with respect to eta\n",
    "    dN1_deta = -0.125*(1-xi[1])*(1-xi[3]);\n",
    "    dN2_deta = -0.125*(1+xi[1])*(1-xi[3]);\n",
    "    dN3_deta = -dN2_deta;\n",
    "    dN4_deta = -dN1_deta;\n",
    "    dN5_deta = -0.125*(1-xi[1])*(1+xi[3]);\n",
    "    dN6_deta = -0.125*(1+xi[1])*(1+xi[3]);\n",
    "    dN7_deta = -dN6_deta;\n",
    "    dN8_deta = -dN5_deta;\n",
    "\n",
    "    # derivatives of shape functions with respect to zeta\n",
    "    dN1_dzeta = -0.125*(1-xi[1])*(1-xi[2]);\n",
    "    dN2_dzeta = -0.125*(1+xi[1])*(1-xi[2]);\n",
    "    dN3_dzeta = -0.125*(1+xi[1])*(1+xi[2]);\n",
    "    dN4_dzeta = -0.125*(1-xi[1])*(1+xi[2]);\n",
    "    dN5_dzeta = -dN1_dzeta;\n",
    "    dN6_dzeta = -dN2_dzeta;\n",
    "    dN7_dzeta = -dN3_dzeta;\n",
    "    dN8_dzeta = -dN4_dzeta;\n",
    "\n",
    "    # Populate dNdX\n",
    "    dNdX = [dN1_dxi dN2_dxi dN3_dxi dN4_dxi dN5_dxi dN6_dxi dN7_dxi dN8_dxi;\n",
    "            dN1_deta dN2_deta dN3_deta dN4_deta dN5_deta dN6_deta dN7_deta dN8_deta;\n",
    "            dN1_dzeta dN2_dzeta dN3_dzeta dN4_dzeta dN5_dzeta dN6_dzeta dN7_dzeta dN8_dzeta];\n",
    "    return dNdX\n",
    "end"
   ]
  },
  {
   "cell_type": "code",
   "execution_count": 13,
   "metadata": {},
   "outputs": [
    {
     "data": {
      "text/plain": [
       "3×8 Matrix{Float64}:\n",
       " -0.0833333   0.0833333   0.0223291  …   0.311004   0.0833333  -0.0833333\n",
       " -0.0833333  -0.0223291   0.0223291     -0.0833333  0.0833333   0.311004\n",
       " -0.311004   -0.0833333  -0.0223291      0.0833333  0.0223291   0.0833333"
      ]
     },
     "execution_count": 13,
     "metadata": {},
     "output_type": "execute_result"
    }
   ],
   "source": [
    "    # Helper function: 3x3 identity matrix\n",
    "    eye_mat = I(3);\n",
    "\n",
    "    # params = [ lambda mu Aphi Bphi Apsi Bpsi Hc numips nstress nisv ndim ];\n",
    "    lambda  = params[1]\n",
    "    mu      = params[2]\n",
    "    Aphi    = params[3]\n",
    "    Bphi    = params[4]\n",
    "    Apsi    = params[5]\n",
    "    Bpsi    = params[6]\n",
    "    Hc      = params[7]\n",
    "    nstress = Int(params[9 ])\n",
    "    nisv    = Int(params[10])\n",
    "    ndim    = Int(params[11])\n",
    "\n",
    "    # initialize\n",
    "    isv      = zeros(nisv)\n",
    "    Fp_el    = zeros(ndim, ndim)\n",
    "    stresses = zeros(ndim, ndim, nstress)\n",
    "\n",
    "    # Mapping from natural coordinates to physical coordinates (X -> x)\n",
    "    X = [-1 -1  1] / sqrt(3)\n",
    "dNdX = grad_basis_linear(X)"
   ]
  },
  {
   "cell_type": "code",
   "execution_count": 14,
   "metadata": {},
   "outputs": [
    {
     "data": {
      "text/plain": [
       "3×3 Matrix{Float64}:\n",
       "  0.5          0.0  0.0\n",
       "  0.0          0.5  0.0\n",
       " -6.93889e-18  0.0  0.5"
      ]
     },
     "execution_count": 14,
     "metadata": {},
     "output_type": "execute_result"
    }
   ],
   "source": [
    "coordsx = [ 0.0  0.0  0.0;\n",
    "            1.0  0.0  0.0;\n",
    "            1.0  1.0  0.0;\n",
    "            0.0  1.0  0.0;\n",
    "            0.0  0.0  1.0;\n",
    "            1.0  0.0  1.0;\n",
    "            1.0  1.0  1.0;\n",
    "            0.0  1.0  1.0 ];\n",
    "d = [   0                  ,   0                   ,     0                   ,\n",
    "       -0.00121108996046273,   0.004706716693526170,     0                   ,\n",
    "       -0.00592063407691252,   0.004095620071092810,     0                   ,\n",
    "       -0.00470954411644980,  -0.000611096622433368,     0                   ,\n",
    "        0                  ,   0                   ,     0.000574665721779025,\n",
    "       -0.00121108996046273,   0.004706716693526170,     0.000574665721779095,\n",
    "       -0.00592063407691252,   0.004095620071092810,     0.000574665721779159,\n",
    "       -0.00470954411644980,  -0.000611096622433368,     0.000574665721779107 ];\n",
    "Je = dNdX * coordsx"
   ]
  },
  {
   "cell_type": "code",
   "execution_count": 15,
   "metadata": {},
   "outputs": [
    {
     "data": {
      "text/plain": [
       "8×3 Matrix{Float64}:\n",
       " -0.166667   -0.166667   -0.622008\n",
       "  0.166667   -0.0446582  -0.166667\n",
       "  0.0446582   0.0446582  -0.0446582\n",
       " -0.0446582   0.166667   -0.166667\n",
       " -0.622008   -0.622008    0.622008\n",
       "  0.622008   -0.166667    0.166667\n",
       "  0.166667    0.166667    0.0446582\n",
       " -0.166667    0.622008    0.166667"
      ]
     },
     "execution_count": 15,
     "metadata": {},
     "output_type": "execute_result"
    }
   ],
   "source": [
    "dN_dx = transpose(dNdX) / Je"
   ]
  },
  {
   "cell_type": "code",
   "execution_count": 16,
   "metadata": {},
   "outputs": [
    {
     "data": {
      "text/plain": [
       "9×24 Matrix{Float64}:\n",
       " -0.166667  -0.0       -0.0       …  -0.166667  -0.0       -0.0\n",
       " -0.166667  -0.0       -0.0           0.622008   0.0        0.0\n",
       " -0.622008  -0.0       -0.0           0.166667   0.0        0.0\n",
       " -0.0       -0.166667  -0.0          -0.0       -0.166667  -0.0\n",
       " -0.0       -0.166667  -0.0           0.0        0.622008   0.0\n",
       " -0.0       -0.622008  -0.0       …   0.0        0.166667   0.0\n",
       " -0.0       -0.0       -0.166667     -0.0       -0.0       -0.166667\n",
       " -0.0       -0.0       -0.166667      0.0        0.0        0.622008\n",
       " -0.0       -0.0       -0.622008      0.0        0.0        0.166667"
      ]
     },
     "execution_count": 16,
     "metadata": {},
     "output_type": "execute_result"
    }
   ],
   "source": [
    "using Kronecker    \n",
    "Bu = zeros(9, 24);\n",
    "for k=1:8\n",
    "    Bu[:, (k-1)*3+1:k*3] = kronecker(I(3), dN_dx[k,:]);\n",
    "end\n",
    "Bu"
   ]
  },
  {
   "cell_type": "code",
   "execution_count": 17,
   "metadata": {},
   "outputs": [
    {
     "data": {
      "text/plain": [
       "9-element Vector{Float64}:\n",
       " -0.0012110899604627278\n",
       " -0.004709544116449797\n",
       " -1.0842021724855044e-19\n",
       "  0.004706716693526172\n",
       " -0.0006110966224333662\n",
       "  2.710505431213761e-20\n",
       "  5.2150124496552763e-17\n",
       "  6.16911036144252e-17\n",
       "  0.0005746657217790565"
      ]
     },
     "execution_count": 17,
     "metadata": {},
     "output_type": "execute_result"
    }
   ],
   "source": [
    "dudX = Bu * d"
   ]
  },
  {
   "cell_type": "code",
   "execution_count": 18,
   "metadata": {},
   "outputs": [
    {
     "data": {
      "text/plain": [
       "3×3 Matrix{Float64}:\n",
       " 0.998789     -0.00470954   -1.0842e-19\n",
       " 0.00470672    0.999389      2.71051e-20\n",
       " 5.21501e-17   6.16911e-17   1.00057"
      ]
     },
     "execution_count": 18,
     "metadata": {},
     "output_type": "execute_result"
    }
   ],
   "source": [
    "Fdef = I(3) + transpose(reshape(dudX, (3, 3)))"
   ]
  },
  {
   "cell_type": "code",
   "execution_count": 19,
   "metadata": {},
   "outputs": [
    {
     "data": {
      "text/plain": [
       "3×3 Matrix{Float64}:\n",
       "  0.997601     -5.64969e-6  5.16879e-17\n",
       " -5.64969e-6    0.9988      6.1926e-17\n",
       "  5.16879e-17   6.1926e-17  1.00115"
      ]
     },
     "execution_count": 19,
     "metadata": {},
     "output_type": "execute_result"
    }
   ],
   "source": [
    "bdef = Fdef  * transpose(Fdef)"
   ]
  },
  {
   "cell_type": "code",
   "execution_count": 20,
   "metadata": {},
   "outputs": [
    {
     "data": {
      "text/plain": [
       "3×3 Matrix{Float64}:\n",
       " -0.00120215   -2.83504e-6   2.58765e-17\n",
       " -2.83504e-6   -0.000600554  3.09647e-17\n",
       "  2.58765e-17   3.09647e-17  0.000574171"
      ]
     },
     "execution_count": 20,
     "metadata": {},
     "output_type": "execute_result"
    }
   ],
   "source": [
    "estrain = (I - inv(bdef)) / 2"
   ]
  },
  {
   "cell_type": "code",
   "execution_count": 21,
   "metadata": {},
   "outputs": [
    {
     "data": {
      "text/plain": [
       "3×3 Matrix{Float64}:\n",
       " 0.998789     -0.00470954   -1.0842e-19\n",
       " 0.00470672    0.999389      2.71051e-20\n",
       " 5.21501e-17   6.16911e-17   1.00057"
      ]
     },
     "execution_count": 21,
     "metadata": {},
     "output_type": "execute_result"
    }
   ],
   "source": [
    "Fp_n = I(3)    \n",
    "Fe_tr = Fdef / Fp_n\n"
   ]
  },
  {
   "cell_type": "code",
   "execution_count": 22,
   "metadata": {},
   "outputs": [
    {
     "data": {
      "text/plain": [
       "3×3 Matrix{Float64}:\n",
       "  0.997601     -5.64969e-6  5.16879e-17\n",
       " -5.64969e-6    0.9988      6.1926e-17\n",
       "  5.16879e-17   6.1926e-17  1.00115"
      ]
     },
     "execution_count": 22,
     "metadata": {},
     "output_type": "execute_result"
    }
   ],
   "source": [
    "be_tr = Fe_tr * transpose(Fe_tr)"
   ]
  },
  {
   "cell_type": "code",
   "execution_count": 23,
   "metadata": {},
   "outputs": [
    {
     "data": {
      "text/plain": [
       "3-element Vector{Float64}:\n",
       " 0.99760144\n",
       " 0.9988003600000002\n",
       " 1.00114966168425"
      ]
     },
     "execution_count": 23,
     "metadata": {},
     "output_type": "execute_result"
    }
   ],
   "source": [
    "D = eigvals(be_tr)"
   ]
  },
  {
   "cell_type": "code",
   "execution_count": 24,
   "metadata": {},
   "outputs": [
    {
     "data": {
      "text/plain": [
       "3-element Vector{Float64}:\n",
       " 0.9988\n",
       " 0.9994000000000001\n",
       " 1.000574665721779"
      ]
     },
     "execution_count": 24,
     "metadata": {},
     "output_type": "execute_result"
    }
   ],
   "source": [
    "lambda_e_tr = sqrt.(D)"
   ]
  },
  {
   "cell_type": "code",
   "execution_count": 25,
   "metadata": {},
   "outputs": [
    {
     "data": {
      "text/plain": [
       "0.9987743517372393"
      ]
     },
     "execution_count": 25,
     "metadata": {},
     "output_type": "execute_result"
    }
   ],
   "source": [
    "Jdef_e_tr = prod(lambda_e_tr)"
   ]
  },
  {
   "cell_type": "code",
   "execution_count": 26,
   "metadata": {},
   "outputs": [
    {
     "data": {
      "text/plain": [
       "tau_princ_coef (generic function with 1 method)"
      ]
     },
     "execution_count": 26,
     "metadata": {},
     "output_type": "execute_result"
    }
   ],
   "source": [
    "tau_princ_coef(J, eigval) = lambda * log(J) - mu + mu * eigval * eigval"
   ]
  },
  {
   "cell_type": "code",
   "execution_count": 27,
   "metadata": {},
   "outputs": [
    {
     "data": {
      "text/plain": [
       "3-element Vector{Float64}:\n",
       "   -5.677295975828886e6\n",
       "   -3.759023975828886e6\n",
       " -141.2810287475586"
      ]
     },
     "execution_count": 27,
     "metadata": {},
     "output_type": "execute_result"
    }
   ],
   "source": [
    "tau_princ_tr = zeros(3)\n",
    "for i=1:3\n",
    "    tau_princ_tr[i] = tau_princ_coef(Jdef_e_tr, lambda_e_tr[i]);\n",
    "end\n",
    "tau_princ_tr"
   ]
  },
  {
   "cell_type": "code",
   "execution_count": 28,
   "metadata": {},
   "outputs": [
    {
     "data": {
      "text/plain": [
       "coaxial (generic function with 1 method)"
      ]
     },
     "execution_count": 28,
     "metadata": {},
     "output_type": "execute_result"
    }
   ],
   "source": [
    "function coaxial(A, b)\n",
    "    eig_vec = eigvecs(A);\n",
    "    C       = zeros(3, 3);\n",
    "    for i=1:3\n",
    "        C = C + b[i] * reshape(kron(eig_vec[:, i], eig_vec[:, i]), (3,3))\n",
    "    end\n",
    "    return C\n",
    "end"
   ]
  },
  {
   "cell_type": "code",
   "execution_count": 29,
   "metadata": {
    "scrolled": true
   },
   "outputs": [
    {
     "data": {
      "text/plain": [
       "3×3 Matrix{Float64}:\n",
       "    -5.67725e6  -9039.51          0.0\n",
       " -9039.51          -3.75907e6     0.0\n",
       "     0.0            0.0        -141.281"
      ]
     },
     "execution_count": 29,
     "metadata": {},
     "output_type": "execute_result"
    }
   ],
   "source": [
    "f = coaxial(be_tr, tau_princ_tr)"
   ]
  },
  {
   "cell_type": "code",
   "execution_count": 30,
   "metadata": {},
   "outputs": [
    {
     "data": {
      "text/plain": [
       "3×3 Matrix{Float64}:\n",
       "    -5.67725e6  -9039.51          0.0\n",
       " -9039.51          -3.75907e6     0.0\n",
       "     0.0            0.0        -141.281"
      ]
     },
     "execution_count": 30,
     "metadata": {},
     "output_type": "execute_result"
    }
   ],
   "source": [
    "tau_tr = coaxial(be_tr, tau_princ_tr)"
   ]
  },
  {
   "cell_type": "code",
   "execution_count": 31,
   "metadata": {},
   "outputs": [
    {
     "data": {
      "text/plain": [
       "3-element Vector{Float64}:\n",
       "      -2.5318088982667127e6\n",
       " -613536.8982667127\n",
       "       3.145345796533426e6"
      ]
     },
     "execution_count": 31,
     "metadata": {},
     "output_type": "execute_result"
    }
   ],
   "source": [
    "p_tau_tr = sum(tau_princ_tr) / 3\n",
    "dev_tau_princ_tr = tau_princ_tr .- p_tau_tr"
   ]
  },
  {
   "cell_type": "code",
   "execution_count": 32,
   "metadata": {},
   "outputs": [
    {
     "data": {
      "text/plain": [
       "3×3 Matrix{Float64}:\n",
       "  0.9988      -2.82739e-6  0.0\n",
       " -2.82739e-6   0.9994      0.0\n",
       "  0.0          0.0         1.00057"
      ]
     },
     "execution_count": 32,
     "metadata": {},
     "output_type": "execute_result"
    }
   ],
   "source": [
    "ve_tr = sqrt(be_tr)"
   ]
  },
  {
   "cell_type": "code",
   "execution_count": 33,
   "metadata": {},
   "outputs": [
    {
     "data": {
      "text/plain": [
       "3×3 Matrix{Float64}:\n",
       " 0.999989     -0.00471237   -1.0855e-19\n",
       " 0.00471237    0.999989      2.7121e-20\n",
       " 5.21202e-17   6.16557e-17   1.0"
      ]
     },
     "execution_count": 33,
     "metadata": {},
     "output_type": "execute_result"
    }
   ],
   "source": [
    "Re_tr = inv(ve_tr) * Fe_tr"
   ]
  },
  {
   "cell_type": "code",
   "execution_count": 34,
   "metadata": {},
   "outputs": [
    {
     "data": {
      "text/plain": [
       "2.5e6"
      ]
     },
     "execution_count": 34,
     "metadata": {},
     "output_type": "execute_result"
    }
   ],
   "source": [
    "c_tau_n = 2.5e6\n",
    "c_tau           = c_tau_n"
   ]
  },
  {
   "cell_type": "code",
   "execution_count": 35,
   "metadata": {},
   "outputs": [
    {
     "data": {
      "text/plain": [
       "4.084076885006909e6"
      ]
     },
     "execution_count": 35,
     "metadata": {},
     "output_type": "execute_result"
    }
   ],
   "source": [
    "dev_tau_tr_norm = norm(dev_tau_princ_tr)"
   ]
  },
  {
   "cell_type": "code",
   "execution_count": 36,
   "metadata": {},
   "outputs": [
    {
     "data": {
      "text/plain": [
       "1576.885006908793"
      ]
     },
     "execution_count": 36,
     "metadata": {},
     "output_type": "execute_result"
    }
   ],
   "source": [
    "f_tr = dev_tau_tr_norm - Aphi * c_tau_n + Bphi * p_tau_tr"
   ]
  },
  {
   "cell_type": "code",
   "execution_count": 37,
   "metadata": {},
   "outputs": [
    {
     "data": {
      "text/plain": [
       "3-element Vector{Float64}:\n",
       " -0.6199219479832172\n",
       " -0.15022657886757065\n",
       "  0.7701485268507879"
      ]
     },
     "execution_count": 37,
     "metadata": {},
     "output_type": "execute_result"
    }
   ],
   "source": [
    "dgdtau_princ_tr = dev_tau_princ_tr ./ dev_tau_tr_norm .+ Bpsi / 3"
   ]
  },
  {
   "cell_type": "code",
   "execution_count": 38,
   "metadata": {},
   "outputs": [
    {
     "data": {
      "text/plain": [
       "1.1102230246251565e-16"
      ]
     },
     "execution_count": 38,
     "metadata": {},
     "output_type": "execute_result"
    }
   ],
   "source": [
    "trace_dgdtau_tr = sum(dgdtau_princ_tr)\n"
   ]
  },
  {
   "cell_type": "code",
   "execution_count": 39,
   "metadata": {},
   "outputs": [
    {
     "data": {
      "text/plain": [
       "3×3 Matrix{Float64}:\n",
       " -0.619912    -0.00221335  0.0\n",
       " -0.00221335  -0.150237    0.0\n",
       "  0.0          0.0         0.770149"
      ]
     },
     "execution_count": 39,
     "metadata": {},
     "output_type": "execute_result"
    }
   ],
   "source": [
    "dgdtau_tr       = coaxial(be_tr, dgdtau_princ_tr)"
   ]
  },
  {
   "cell_type": "code",
   "execution_count": 42,
   "metadata": {},
   "outputs": [
    {
     "data": {
      "text/plain": [
       "1576.885006908793"
      ]
     },
     "execution_count": 42,
     "metadata": {},
     "output_type": "execute_result"
    }
   ],
   "source": [
    "f_tr"
   ]
  },
  {
   "cell_type": "code",
   "execution_count": 45,
   "metadata": {},
   "outputs": [
    {
     "data": {
      "text/plain": [
       "0.9987743517372393"
      ]
     },
     "execution_count": 45,
     "metadata": {},
     "output_type": "execute_result"
    }
   ],
   "source": [
    "lambda_e = lambda_e_tr\n",
    "Jdef_e   = prod(lambda_e)"
   ]
  },
  {
   "cell_type": "code",
   "execution_count": 50,
   "metadata": {},
   "outputs": [
    {
     "data": {
      "text/plain": [
       "4.084076885006909e6"
      ]
     },
     "execution_count": 50,
     "metadata": {},
     "output_type": "execute_result"
    }
   ],
   "source": [
    "tau_princ = zeros(3)\n",
    "for i=1:3\n",
    "    tau_princ[i] = tau_princ_coef(Jdef_e, lambda_e[i])\n",
    "end\n",
    "p_tau         = sum(tau_princ) / 3\n",
    "dev_tau_princ = tau_princ .- p_tau\n",
    "dev_tau_norm  = norm(dev_tau_princ)"
   ]
  },
  {
   "cell_type": "code",
   "execution_count": 54,
   "metadata": {},
   "outputs": [
    {
     "data": {
      "text/plain": [
       "0"
      ]
     },
     "execution_count": 54,
     "metadata": {},
     "output_type": "execute_result"
    }
   ],
   "source": [
    "        fyield_atol      = 1e-6\n",
    "        fyield_rtol      = 1e-8\n",
    "        k                = 0\n",
    "        iter_break_local = 10\n",
    "        fyield           = f_tr\n",
    "        Dg_iter          = 0"
   ]
  },
  {
   "cell_type": "code",
   "execution_count": 58,
   "metadata": {},
   "outputs": [
    {
     "data": {
      "text/plain": [
       "3-element Vector{Float64}:\n",
       "  1.9817148075094583e9\n",
       "  4.828710732977314e8\n",
       " -2.46458588080719e9"
      ]
     },
     "execution_count": 58,
     "metadata": {},
     "output_type": "execute_result"
    }
   ],
   "source": [
    "# derivative of devtau wrt Dg\n",
    "dtau_princ_dDg = zeros(3)\n",
    "for i=1:3\n",
    "    dtau_princ_dDg[i] = -lambda * trace_dgdtau_tr - 2 * mu * lambda_e[i] * lambda_e[i] * dgdtau_princ_tr[i]\n",
    "end\n",
    "trace_dtaudDg      = sum(dtau_princ_dDg)\n",
    "dev_dtau_princ_dDg = dtau_princ_dDg .- trace_dtaudDg / 3"
   ]
  },
  {
   "cell_type": "code",
   "execution_count": 62,
   "metadata": {},
   "outputs": [
    {
     "data": {
      "text/plain": [
       "-3.1991465751084943e9"
      ]
     },
     "execution_count": 62,
     "metadata": {},
     "output_type": "execute_result"
    }
   ],
   "source": [
    "ddevtau_norm_dDg = dot(dev_tau_princ, dev_dtau_princ_dDg) / dev_tau_norm\n",
    "dfdDg = ddevtau_norm_dDg - Hc * Aphi * Apsi + Bphi * trace_dtaudDg / 3"
   ]
  },
  {
   "cell_type": "code",
   "execution_count": 66,
   "metadata": {},
   "outputs": [
    {
     "data": {
      "text/plain": [
       "4.92908020900954e-7"
      ]
     },
     "execution_count": 66,
     "metadata": {},
     "output_type": "execute_result"
    }
   ],
   "source": [
    "del_Dg  = -fyield / dfdDg"
   ]
  },
  {
   "cell_type": "code",
   "execution_count": 67,
   "metadata": {},
   "outputs": [
    {
     "data": {
      "text/plain": [
       "4.92908020900954e-7"
      ]
     },
     "execution_count": 67,
     "metadata": {},
     "output_type": "execute_result"
    }
   ],
   "source": [
    "Dg_iter = Dg_iter + del_Dg\n"
   ]
  },
  {
   "cell_type": "code",
   "execution_count": 68,
   "metadata": {},
   "outputs": [],
   "source": [
    "if Dg_iter < 0\n",
    "    Dg_iter\n",
    "end"
   ]
  },
  {
   "cell_type": "code",
   "execution_count": 89,
   "metadata": {},
   "outputs": [
    {
     "data": {
      "text/plain": [
       "0.9987743517372403"
      ]
     },
     "execution_count": 89,
     "metadata": {},
     "output_type": "execute_result"
    }
   ],
   "source": [
    "for i=1:3\n",
    "    lambda_e[i] = lambda_e_tr[i] * exp(-Dg_iter * dgdtau_princ_tr[i])\n",
    "end\n",
    "lambda_e\n",
    "Jdef_e = prod(lambda_e)"
   ]
  },
  {
   "cell_type": "code",
   "execution_count": 93,
   "metadata": {},
   "outputs": [
    {
     "data": {
      "text/plain": [
       "3-element Vector{Float64}:\n",
       "     -5.667541335276842e6\n",
       "     -3.7566572843165398e6\n",
       " -12302.79684472084"
      ]
     },
     "execution_count": 93,
     "metadata": {},
     "output_type": "execute_result"
    }
   ],
   "source": [
    "for i=1:3\n",
    "    tau_princ[i] = lambda * log(Jdef_e) - mu + mu * lambda_e[i] * lambda_e[i]\n",
    "end\n",
    "tau_princ"
   ]
  },
  {
   "cell_type": "code",
   "execution_count": 94,
   "metadata": {},
   "outputs": [
    {
     "data": {
      "text/plain": [
       "4.0683080557988184e6"
      ]
     },
     "execution_count": 94,
     "metadata": {},
     "output_type": "execute_result"
    }
   ],
   "source": [
    "p_tau        = sum(tau_princ) / 3\n",
    "dev_tau      = tau_princ .- p_tau\n",
    "dev_tau_norm = norm(dev_tau)"
   ]
  },
  {
   "cell_type": "code",
   "execution_count": 95,
   "metadata": {},
   "outputs": [
    {
     "data": {
      "text/plain": [
       "2.500000000246458e6"
      ]
     },
     "execution_count": 95,
     "metadata": {},
     "output_type": "execute_result"
    }
   ],
   "source": [
    "c_tau = c_tau_n + Dg_iter * Hc * Apsi"
   ]
  },
  {
   "cell_type": "code",
   "execution_count": 96,
   "metadata": {},
   "outputs": [
    {
     "data": {
      "text/plain": [
       "-14191.944603648037"
      ]
     },
     "execution_count": 96,
     "metadata": {},
     "output_type": "execute_result"
    }
   ],
   "source": [
    "fyield = dev_tau_norm - Aphi * c_tau + Bphi * p_tau"
   ]
  },
  {
   "cell_type": "code",
   "execution_count": 97,
   "metadata": {},
   "outputs": [
    {
     "data": {
      "text/plain": [
       "3-element Vector{Float64}:\n",
       "      -2.522040863130808e6\n",
       " -611156.8121705055\n",
       "       3.1331976753013134e6"
      ]
     },
     "execution_count": 97,
     "metadata": {},
     "output_type": "execute_result"
    }
   ],
   "source": [
    "dev_tau"
   ]
  },
  {
   "cell_type": "code",
   "execution_count": 98,
   "metadata": {},
   "outputs": [
    {
     "data": {
      "text/plain": [
       "3-element Vector{Float64}:\n",
       "     -5.667541335276842e6\n",
       "     -3.7566572843165398e6\n",
       " -12302.79684472084"
      ]
     },
     "execution_count": 98,
     "metadata": {},
     "output_type": "execute_result"
    }
   ],
   "source": [
    "tau_princ"
   ]
  },
  {
   "cell_type": "code",
   "execution_count": 99,
   "metadata": {},
   "outputs": [
    {
     "data": {
      "text/plain": [
       "-3.1455004721460342e6"
      ]
     },
     "execution_count": 99,
     "metadata": {},
     "output_type": "execute_result"
    }
   ],
   "source": [
    "p_tau"
   ]
  },
  {
   "cell_type": "code",
   "execution_count": 101,
   "metadata": {},
   "outputs": [
    {
     "data": {
      "text/plain": [
       "3×3 Matrix{Float64}:\n",
       "  1.0          -2.78423e-16  5.20118e-17\n",
       " -2.7929e-16    1.0          6.16833e-17\n",
       "  5.20118e-17   6.16833e-17  1.0"
      ]
     },
     "execution_count": 101,
     "metadata": {},
     "output_type": "execute_result"
    }
   ],
   "source": [
    "Fp = transpose(Re_tr) * exp(Dg_iter * dgdtau_tr) * Re_tr * Fp_n"
   ]
  },
  {
   "cell_type": "code",
   "execution_count": 105,
   "metadata": {},
   "outputs": [
    {
     "data": {
      "text/plain": [
       "3×3 Matrix{Float64}:\n",
       "    -5.6675e6  -9004.7            0.0\n",
       " -9004.7          -3.7567e6       0.0\n",
       "     0.0           0.0       -12302.8"
      ]
     },
     "execution_count": 105,
     "metadata": {},
     "output_type": "execute_result"
    }
   ],
   "source": [
    "tau = coaxial(be_tr, tau_princ)"
   ]
  },
  {
   "cell_type": "code",
   "execution_count": 106,
   "metadata": {},
   "outputs": [
    {
     "name": "stdout",
     "output_type": "stream",
     "text": [
      "0\n"
     ]
    }
   ],
   "source": [
    "println(k)\n",
    "                "
   ]
  },
  {
   "cell_type": "code",
   "execution_count": 108,
   "metadata": {},
   "outputs": [
    {
     "name": "stdout",
     "output_type": "stream",
     "text": [
      "reached max number of local iterations for Dg\n"
     ]
    }
   ],
   "source": [
    "println(\"reached max number of local iterations for Dg\")"
   ]
  },
  {
   "cell_type": "code",
   "execution_count": 109,
   "metadata": {},
   "outputs": [
    {
     "data": {
      "text/plain": [
       "-14191.944603648037"
      ]
     },
     "execution_count": 109,
     "metadata": {},
     "output_type": "execute_result"
    }
   ],
   "source": [
    "fyield"
   ]
  },
  {
   "cell_type": "code",
   "execution_count": 111,
   "metadata": {},
   "outputs": [
    {
     "data": {
      "text/plain": [
       "1.4191944603648037e10"
      ]
     },
     "execution_count": 111,
     "metadata": {},
     "output_type": "execute_result"
    }
   ],
   "source": [
    "abs(fyield)/fyield_atol"
   ]
  },
  {
   "cell_type": "code",
   "execution_count": null,
   "metadata": {},
   "outputs": [],
   "source": []
  }
 ],
 "metadata": {
  "kernelspec": {
   "display_name": "Julia 1.8.0",
   "language": "julia",
   "name": "julia-1.8"
  },
  "language_info": {
   "file_extension": ".jl",
   "mimetype": "application/julia",
   "name": "julia",
   "version": "1.8.0"
  }
 },
 "nbformat": 4,
 "nbformat_minor": 2
}
