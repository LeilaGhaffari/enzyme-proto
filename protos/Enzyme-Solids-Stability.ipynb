{
 "cells": [
  {
   "cell_type": "code",
   "execution_count": 1,
   "id": "b52d625a",
   "metadata": {},
   "outputs": [],
   "source": [
    "using Enzyme\n",
    "using LinearAlgebra"
   ]
  },
  {
   "cell_type": "code",
   "execution_count": 2,
   "id": "7d065e2a",
   "metadata": {},
   "outputs": [
    {
     "data": {
      "text/plain": [
       "detCm1 (generic function with 1 method)"
      ]
     },
     "execution_count": 2,
     "metadata": {},
     "output_type": "execute_result"
    }
   ],
   "source": [
    "function detCm1(E2)\n",
    "    det_E2 = det(E2)\n",
    "    A1 = E2[1,1]*E2[2,2] + E2[1,1]*E2[3,3] + E2[2,2]*E2[3,3]\n",
    "    A2 = E2[1,2]*E2[2,1] + E2[1,3]*E2[3,1] + E2[2,3]*E2[3,2]\n",
    "    # det(C - 1)\n",
    "    det_E2 + tr(E2) + A1 - A2\n",
    "end"
   ]
  },
  {
   "cell_type": "code",
   "execution_count": 3,
   "id": "e5cc2d8b",
   "metadata": {},
   "outputs": [
    {
     "data": {
      "text/plain": [
       "StrainEnergy! (generic function with 1 method)"
      ]
     },
     "execution_count": 3,
     "metadata": {},
     "output_type": "execute_result"
    }
   ],
   "source": [
    "function StrainEnergy!(strain_energy, E2work, mu)\n",
    "    \n",
    "    E2 = [ \n",
    "              E2work[1] E2work[6] E2work[5];\n",
    "              E2work[6] E2work[2] E2work[4];\n",
    "              E2work[5] E2work[4] E2work[3]\n",
    "         ]\n",
    "    \n",
    "    # log(J)\n",
    "    det_Cm1 = detCm1(E2)\n",
    "    logJ = log(det_Cm1 + 1) / 2.\n",
    "\n",
    "    # trace(E)\n",
    "    traceE = (E2work[1] + E2work[2] + E2work[3]) / 2.\n",
    "\n",
    "    strain_energy[] = mu * (-logJ + traceE)\n",
    "    \n",
    "    nothing\n",
    "\n",
    "end"
   ]
  },
  {
   "cell_type": "code",
   "execution_count": 4,
   "id": "68d269ed",
   "metadata": {},
   "outputs": [],
   "source": [
    "E2work = [\n",
    "    0.5895232828911128,\n",
    "    0.2362491738162759,\n",
    "    0.9793730522395296,\n",
    "    0.2190993957421843,\n",
    "    0.0126503210747925,\n",
    "    0.6570956167695403\n",
    "];\n",
    "mu = 1;"
   ]
  },
  {
   "cell_type": "code",
   "execution_count": 25,
   "id": "3356e856",
   "metadata": {},
   "outputs": [
    {
     "data": {
      "text/plain": [
       "Base.RefValue{Float64}(0.35963060590632745)"
      ]
     },
     "execution_count": 25,
     "metadata": {},
     "output_type": "execute_result"
    }
   ],
   "source": [
    "#strain_energy = StrainEnergy!(E2work, mu)\n",
    "se = Ref(0.)\n",
    "StrainEnergy!(se, E2work, mu);\n",
    "se"
   ]
  },
  {
   "cell_type": "code",
   "execution_count": 46,
   "id": "a8611e6f",
   "metadata": {},
   "outputs": [
    {
     "data": {
      "text/plain": [
       "Base.RefValue{Float64}(1.0)"
      ]
     },
     "execution_count": 46,
     "metadata": {},
     "output_type": "execute_result"
    }
   ],
   "source": [
    "Stress = zeros(6)\n",
    "dse = Ref(1.0)\n",
    "# Skip this for now since it's doesn't handle allocations that happen above\n",
    "#Enzyme.autodiff(StrainEnergy!, Const, Duplicated(se, dse), Duplicated(E2work, Stress), Const(mu))"
   ]
  },
  {
   "cell_type": "markdown",
   "id": "2a0f0ef0",
   "metadata": {},
   "source": [
    "## Enzyme gradient with StaticArrays"
   ]
  },
  {
   "cell_type": "code",
   "execution_count": 23,
   "id": "79dc5443",
   "metadata": {},
   "outputs": [
    {
     "data": {
      "text/plain": [
       "3×3 SMatrix{3, 3, Float64, 9} with indices SOneTo(3)×SOneTo(3):\n",
       " 0.294762    0.328548  0.00632516\n",
       " 0.328548    0.118125  0.10955\n",
       " 0.00632516  0.10955   0.489687"
      ]
     },
     "execution_count": 23,
     "metadata": {},
     "output_type": "execute_result"
    }
   ],
   "source": [
    "using StaticArrays\n",
    "\n",
    "E = SMatrix{3,3}(.5*reshape(E2work[[1,6,5,6,2,4,5,4,3]], 3, 3))"
   ]
  },
  {
   "cell_type": "code",
   "execution_count": 26,
   "id": "cc5cfbde",
   "metadata": {},
   "outputs": [
    {
     "data": {
      "text/plain": [
       "0.35963060590632734"
      ]
     },
     "execution_count": 26,
     "metadata": {},
     "output_type": "execute_result"
    }
   ],
   "source": [
    "psi(E) = mu * (-log(det(I+2E))/2 + tr(E))\n",
    "psi(E)"
   ]
  },
  {
   "cell_type": "code",
   "execution_count": 44,
   "id": "107e25bd",
   "metadata": {
    "hideCode": false
   },
   "outputs": [
    {
     "data": {
      "text/plain": [
       "3×3 SMatrix{3, 3, Float64, 9} with indices SOneTo(3)×SOneTo(3):\n",
       "  0.190092    0.438163  -0.0433247\n",
       "  0.438163   -0.062133   0.114769\n",
       " -0.0433247   0.114769   0.482363"
      ]
     },
     "execution_count": 44,
     "metadata": {},
     "output_type": "execute_result"
    }
   ],
   "source": [
    "S, = autodiff(psi, Active, Active(E))\n",
    "S"
   ]
  },
  {
   "cell_type": "markdown",
   "id": "dd0ff324",
   "metadata": {
    "slideshow": {
     "slide_type": "slide"
    }
   },
   "source": [
    "## Zygote gradient"
   ]
  },
  {
   "cell_type": "code",
   "execution_count": 45,
   "id": "209b30f3",
   "metadata": {},
   "outputs": [
    {
     "data": {
      "text/plain": [
       "3×3 SizedMatrix{3, 3, Float64, 2, Matrix{Float64}} with indices SOneTo(3)×SOneTo(3):\n",
       "  0.190092    0.438163  -0.0433247\n",
       "  0.438163   -0.062133   0.114769\n",
       " -0.0433247   0.114769   0.482363"
      ]
     },
     "execution_count": 45,
     "metadata": {},
     "output_type": "execute_result"
    }
   ],
   "source": [
    "import Zygote\n",
    "S, = Zygote.gradient(psi, E)\n",
    "S"
   ]
  }
 ],
 "metadata": {
  "@webio": {
   "lastCommId": null,
   "lastKernelId": null
  },
  "kernelspec": {
   "display_name": "Julia 1.6.2",
   "language": "julia",
   "name": "julia-1.6"
  },
  "language_info": {
   "file_extension": ".jl",
   "mimetype": "application/julia",
   "name": "julia",
   "version": "1.7.3"
  }
 },
 "nbformat": 4,
 "nbformat_minor": 5
}
