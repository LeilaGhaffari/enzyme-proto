{
 "cells": [
  {
   "cell_type": "code",
   "execution_count": 1,
   "id": "7a1d3146",
   "metadata": {
    "scrolled": true
   },
   "outputs": [
    {
     "data": {
      "text/plain": [
       "3-element Vector{Float64}:\n",
       " 0.653484990079922\n",
       " 0.744572635699587\n",
       " 0.23483535966444968"
      ]
     },
     "execution_count": 1,
     "metadata": {},
     "output_type": "execute_result"
    }
   ],
   "source": [
    "using Enzyme\n",
    "\n",
    "function velocity!(u, x, mu)\n",
    "    \n",
    "    for i in 1:3\n",
    "        u[i] = mu * (x[i] * x[i])\n",
    "    end\n",
    "    nothing\n",
    "end\n",
    "\n",
    "x = [0.653484990079922, 0.744572635699587, 0.23483535966444968]"
   ]
  },
  {
   "cell_type": "code",
   "execution_count": 2,
   "id": "9700ce15",
   "metadata": {},
   "outputs": [],
   "source": [
    "u = zeros(3)\n",
    "deltaU = zeros(3,3)\n",
    "mu = 2\n",
    "for i in 1:3\n",
    "    dx = zeros(3)\n",
    "    du = zeros(3)\n",
    "    du[i] = 1\n",
    "    Enzyme.autodiff(velocity!, Const, Duplicated(u, du), Duplicated(x, dx), Const(mu))\n",
    "    deltaU[i,:] = dx\n",
    "end"
   ]
  },
  {
   "cell_type": "code",
   "execution_count": 3,
   "id": "fe8bfe53",
   "metadata": {},
   "outputs": [
    {
     "data": {
      "text/plain": [
       "3×3 Matrix{Float64}:\n",
       " 2.61394  0.0      0.0\n",
       " 0.0      2.97829  0.0\n",
       " 0.0      0.0      0.939341"
      ]
     },
     "execution_count": 3,
     "metadata": {},
     "output_type": "execute_result"
    }
   ],
   "source": [
    "deltaU"
   ]
  },
  {
   "cell_type": "code",
   "execution_count": 4,
   "id": "87c3f0ff",
   "metadata": {},
   "outputs": [
    {
     "data": {
      "text/plain": [
       "3-element Vector{Float64}:\n",
       " 0.8540852645195115\n",
       " 1.1087768196652596\n",
       " 0.11029529229746288"
      ]
     },
     "execution_count": 4,
     "metadata": {},
     "output_type": "execute_result"
    }
   ],
   "source": [
    "u"
   ]
  },
  {
   "cell_type": "code",
   "execution_count": null,
   "id": "2fad693c",
   "metadata": {},
   "outputs": [],
   "source": []
  }
 ],
 "metadata": {
  "kernelspec": {
   "display_name": "Julia 1.6.2",
   "language": "julia",
   "name": "julia-1.6"
  },
  "language_info": {
   "file_extension": ".jl",
   "mimetype": "application/julia",
   "name": "julia",
   "version": "1.6.2"
  }
 },
 "nbformat": 4,
 "nbformat_minor": 5
}
