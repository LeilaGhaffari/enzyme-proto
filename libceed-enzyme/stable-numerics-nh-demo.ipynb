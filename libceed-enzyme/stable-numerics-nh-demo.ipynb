{
 "cells": [
  {
   "cell_type": "code",
   "execution_count": 1,
   "id": "220a3c3b",
   "metadata": {},
   "outputs": [],
   "source": [
    "using LinearAlgebra\n",
    "using Plots\n",
    "using GenericLinearAlgebra"
   ]
  },
  {
   "cell_type": "code",
   "execution_count": 2,
   "id": "4434fbb2",
   "metadata": {},
   "outputs": [],
   "source": [
    "using StaticArrays\n",
    "using Enzyme"
   ]
  },
  {
   "cell_type": "markdown",
   "id": "716499be",
   "metadata": {},
   "source": [
    "# Standard Neo-Hookean formulation in initial configuration with Enzyme-AD\n",
    "\n",
    "We consider the shear term in Neo-Hookean hyperelasticity:\n",
    "\n",
    "\\begin{align}\n",
    "\\phi_{\\text{shear}} &= - \\mu log J + \\mu trace E \\\\\n",
    "&= - \\mu log (\\sqrt{|I + 2 E|}) + \\mu trace E \n",
    "\\end{align}\n",
    "\n",
    "\\begin{equation}\n",
    "S_{\\text{shear}} = \\partial{\\phi_{\\text{shear}}} / \\partial{E} \\\\\n",
    "\\end{equation}"
   ]
  },
  {
   "cell_type": "code",
   "execution_count": 3,
   "id": "94e525c7",
   "metadata": {},
   "outputs": [
    {
     "data": {
      "text/plain": [
       "3×3 Matrix{Float64}:\n",
       "  0.150281   0.448128  -1.24517\n",
       "  1.77762    0.498451   0.421194\n",
       " -0.700885  -0.273633   1.23451"
      ]
     },
     "execution_count": 3,
     "metadata": {},
     "output_type": "execute_result"
    }
   ],
   "source": [
    "function psi1(dudX; mu=1.)\n",
    "    E = .5 * (dudX + dudX' + dudX' * dudX)\n",
    "    \n",
    "    mu * (-log(det(I+2E))/2 + tr(E))\n",
    "end\n",
    "\n",
    "dudX = randn(3,3)"
   ]
  },
  {
   "cell_type": "code",
   "execution_count": 4,
   "id": "1c03e606",
   "metadata": {},
   "outputs": [
    {
     "data": {
      "text/plain": [
       "3×3 SMatrix{3, 3, Float64, 9} with indices SOneTo(3)×SOneTo(3):\n",
       "  1.98715   1.68546   -1.12486\n",
       "  1.68546   0.760525  -0.269147\n",
       " -1.12486  -0.269147   2.86044"
      ]
     },
     "execution_count": 4,
     "metadata": {},
     "output_type": "execute_result"
    }
   ],
   "source": [
    "E = SMatrix{3,3}(.5 * (dudX + dudX' + dudX' * dudX))"
   ]
  },
  {
   "cell_type": "code",
   "execution_count": 5,
   "id": "279d1a64",
   "metadata": {},
   "outputs": [
    {
     "data": {
      "text/plain": [
       "3×3 SMatrix{3, 3, Float64, 9} with indices SOneTo(3)×SOneTo(3):\n",
       "  2.13728   2.4696    -1.31782\n",
       "  2.4696    0.462908  -0.131134\n",
       " -1.31782  -0.131134   3.5548"
      ]
     },
     "execution_count": 5,
     "metadata": {},
     "output_type": "execute_result"
    }
   ],
   "source": [
    "#function Stress(E, psi, repr)\n",
    "s, = autodiff(psi1, Active, Active(E))\n",
    "s"
   ]
  },
  {
   "cell_type": "code",
   "execution_count": 6,
   "id": "0e2ebd5f",
   "metadata": {},
   "outputs": [
    {
     "data": {
      "text/plain": [
       "S (generic function with 1 method)"
      ]
     },
     "execution_count": 6,
     "metadata": {},
     "output_type": "execute_result"
    }
   ],
   "source": [
    "function S(dudX, psi)\n",
    "    E = SMatrix{3,3}(.5 * (dudX + dudX' + dudX' * dudX))\n",
    "    stress, = autodiff(psi, Active, Active(E))\n",
    "    stress\n",
    "end "
   ]
  },
  {
   "cell_type": "code",
   "execution_count": 7,
   "id": "397dc691",
   "metadata": {},
   "outputs": [
    {
     "data": {
      "text/plain": [
       "rel_error (generic function with 1 method)"
      ]
     },
     "execution_count": 7,
     "metadata": {},
     "output_type": "execute_result"
    }
   ],
   "source": [
    "function rel_error(eps, psi, repr)\n",
    "    ref = S(big.(eps*dudX), psi) # arbitrary precision\n",
    "    norm(S(repr.(eps*dudX), psi) - ref) / norm(ref)\n",
    "end\n"
   ]
  },
  {
   "cell_type": "code",
   "execution_count": null,
   "id": "ddb105b9",
   "metadata": {},
   "outputs": [
    {
     "name": "stderr",
     "output_type": "stream",
     "text": [
      "┌ Warning: Unknown floating point type\n",
      "│   T = BigFloat\n",
      "└ @ Enzyme /home/leila/.julia/packages/Enzyme/fgrLi/src/typetree.jl:77\n",
      "┌ Warning: Unknown floating point type\n",
      "│   T = BigFloat\n",
      "└ @ Enzyme /home/leila/.julia/packages/Enzyme/fgrLi/src/typetree.jl:77\n",
      "┌ Warning: Unknown floating point type\n",
      "│   T = BigFloat\n",
      "└ @ Enzyme /home/leila/.julia/packages/Enzyme/fgrLi/src/typetree.jl:77\n",
      "┌ Warning: Unknown floating point type\n",
      "│   T = BigFloat\n",
      "└ @ Enzyme /home/leila/.julia/packages/Enzyme/fgrLi/src/typetree.jl:77\n",
      "┌ Warning: Unknown floating point type\n",
      "│   T = BigFloat\n",
      "└ @ Enzyme /home/leila/.julia/packages/Enzyme/fgrLi/src/typetree.jl:77\n",
      "┌ Warning: Unknown floating point type\n",
      "│   T = BigFloat\n",
      "└ @ Enzyme /home/leila/.julia/packages/Enzyme/fgrLi/src/typetree.jl:77\n",
      "┌ Warning: Unknown floating point type\n",
      "│   T = BigFloat\n",
      "└ @ Enzyme /home/leila/.julia/packages/Enzyme/fgrLi/src/typetree.jl:77\n",
      "┌ Warning: Unknown floating point type\n",
      "│   T = BigFloat\n",
      "└ @ Enzyme /home/leila/.julia/packages/Enzyme/fgrLi/src/typetree.jl:77\n",
      "┌ Warning: Unknown floating point type\n",
      "│   T = BigFloat\n",
      "└ @ Enzyme /home/leila/.julia/packages/Enzyme/fgrLi/src/typetree.jl:77\n",
      "┌ Warning: Unknown floating point type\n",
      "│   T = BigFloat\n",
      "└ @ Enzyme /home/leila/.julia/packages/Enzyme/fgrLi/src/typetree.jl:77\n",
      "┌ Warning: Unknown floating point type\n",
      "│   T = BigFloat\n",
      "└ @ Enzyme /home/leila/.julia/packages/Enzyme/fgrLi/src/typetree.jl:77\n",
      "┌ Warning: Unknown floating point type\n",
      "│   T = BigFloat\n",
      "└ @ Enzyme /home/leila/.julia/packages/Enzyme/fgrLi/src/typetree.jl:77\n",
      "┌ Warning: Unknown floating point type\n",
      "│   T = BigFloat\n",
      "└ @ Enzyme /home/leila/.julia/packages/Enzyme/fgrLi/src/typetree.jl:77\n",
      "┌ Warning: Unknown floating point type\n",
      "│   T = BigFloat\n",
      "└ @ Enzyme /home/leila/.julia/packages/Enzyme/fgrLi/src/typetree.jl:77\n",
      "┌ Warning: Unknown floating point type\n",
      "│   T = BigFloat\n",
      "└ @ Enzyme /home/leila/.julia/packages/Enzyme/fgrLi/src/typetree.jl:77\n",
      "┌ Warning: Unknown floating point type\n",
      "│   T = BigFloat\n",
      "└ @ Enzyme /home/leila/.julia/packages/Enzyme/fgrLi/src/typetree.jl:77\n"
     ]
    }
   ],
   "source": [
    "rel_error(1e-5, psi1, \"Float64\")"
   ]
  },
  {
   "cell_type": "code",
   "execution_count": null,
   "id": "5d637c0b",
   "metadata": {},
   "outputs": [],
   "source": []
  }
 ],
 "metadata": {
  "kernelspec": {
   "display_name": "Julia 1.6.2",
   "language": "julia",
   "name": "julia-1.6"
  },
  "language_info": {
   "file_extension": ".jl",
   "mimetype": "application/julia",
   "name": "julia",
   "version": "1.6.2"
  }
 },
 "nbformat": 4,
 "nbformat_minor": 5
}
