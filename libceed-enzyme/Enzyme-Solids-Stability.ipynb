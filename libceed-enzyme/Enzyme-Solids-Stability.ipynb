{
 "cells": [
  {
   "cell_type": "code",
   "execution_count": 1,
   "id": "b52d625a",
   "metadata": {},
   "outputs": [],
   "source": [
    "using Enzyme\n",
    "using LinearAlgebra"
   ]
  },
  {
   "cell_type": "code",
   "execution_count": 2,
   "id": "7d065e2a",
   "metadata": {},
   "outputs": [
    {
     "data": {
      "text/plain": [
       "detCm1 (generic function with 1 method)"
      ]
     },
     "execution_count": 2,
     "metadata": {},
     "output_type": "execute_result"
    }
   ],
   "source": [
    "function detCm1(E2)\n",
    "    det_E2 = det(E2)\n",
    "    A1 = E2[1,1]*E2[2,2] + E2[1,1]*E2[3,3] + E2[2,2]*E2[3,3]\n",
    "    A2 = E2[1,2]*E2[2,1] + E2[1,3]*E2[3,1] + E2[2,3]*E2[3,2]\n",
    "    # det(C - 1)\n",
    "    det_E2 + tr(E2) + A1 - A2\n",
    "end"
   ]
  },
  {
   "cell_type": "code",
   "execution_count": 3,
   "id": "e5cc2d8b",
   "metadata": {},
   "outputs": [
    {
     "data": {
      "text/plain": [
       "StrainEnergy! (generic function with 1 method)"
      ]
     },
     "execution_count": 3,
     "metadata": {},
     "output_type": "execute_result"
    }
   ],
   "source": [
    "function StrainEnergy!(strain_energy, E2work, mu)\n",
    "    \n",
    "    E2 = [ \n",
    "              E2work[1] E2work[6] E2work[5];\n",
    "              E2work[6] E2work[2] E2work[4];\n",
    "              E2work[5] E2work[4] E2work[3]\n",
    "         ]\n",
    "    \n",
    "    # log(J)\n",
    "    det_Cm1 = detCm1(E2)\n",
    "    logJ = log1p(det_Cm1) / 2.\n",
    "\n",
    "    # trace(E)\n",
    "    traceE = (E2work[1] + E2work[2] + E2work[3]) / 2.\n",
    "\n",
    "    # mu * (-logJ + traceE)\n",
    "    strain_energy = mu * (-logJ + traceE)\n",
    "    \n",
    "    nothing\n",
    "\n",
    "end"
   ]
  },
  {
   "cell_type": "code",
   "execution_count": 4,
   "id": "68d269ed",
   "metadata": {},
   "outputs": [],
   "source": [
    "E2work = [\n",
    "    0.5895232828911128,\n",
    "    0.2362491738162759,\n",
    "    0.9793730522395296,\n",
    "    0.2190993957421843,\n",
    "    0.0126503210747925,\n",
    "    0.6570956167695403\n",
    "];\n",
    "mu = 1;"
   ]
  },
  {
   "cell_type": "code",
   "execution_count": 10,
   "id": "3356e856",
   "metadata": {},
   "outputs": [],
   "source": [
    "#strain_energy = StrainEnergy!(E2work, mu)\n",
    "se = 0\n",
    "StrainEnergy!(se, E2work, mu);"
   ]
  },
  {
   "cell_type": "code",
   "execution_count": 11,
   "id": "a8611e6f",
   "metadata": {},
   "outputs": [
    {
     "ename": "LoadError",
     "evalue": "MethodError: no method matching Duplicated(::Int64, ::Vector{Float64})\n\u001b[0mClosest candidates are:\n\u001b[0m  Duplicated(::T, \u001b[91m::T\u001b[39m) where T at /home/leila/.julia/packages/Enzyme/afnXq/src/Enzyme.jl:61",
     "output_type": "error",
     "traceback": [
      "MethodError: no method matching Duplicated(::Int64, ::Vector{Float64})\n\u001b[0mClosest candidates are:\n\u001b[0m  Duplicated(::T, \u001b[91m::T\u001b[39m) where T at /home/leila/.julia/packages/Enzyme/afnXq/src/Enzyme.jl:61",
      "",
      "Stacktrace:",
      " [1] top-level scope",
      "   @ In[11]:3",
      " [2] eval",
      "   @ ./boot.jl:360 [inlined]",
      " [3] include_string(mapexpr::typeof(REPL.softscope), mod::Module, code::String, filename::String)",
      "   @ Base ./loading.jl:1116"
     ]
    }
   ],
   "source": [
    "Stress = zeros(6)\n",
    "dse = ones(6)\n",
    "Enzyme.autodiff(StrainEnergy!, Const, Duplicated(se, dse), Duplicated(E2work, Stress), Const(mu))"
   ]
  },
  {
   "cell_type": "code",
   "execution_count": null,
   "id": "cc5cfbde",
   "metadata": {},
   "outputs": [],
   "source": []
  }
 ],
 "metadata": {
  "kernelspec": {
   "display_name": "Julia 1.6.2",
   "language": "julia",
   "name": "julia-1.6"
  },
  "language_info": {
   "file_extension": ".jl",
   "mimetype": "application/julia",
   "name": "julia",
   "version": "1.6.2"
  }
 },
 "nbformat": 4,
 "nbformat_minor": 5
}
