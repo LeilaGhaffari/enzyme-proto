{
 "cells": [
  {
   "cell_type": "code",
   "execution_count": 162,
   "source": [
    "using Enzyme"
   ],
   "outputs": [],
   "metadata": {}
  },
  {
   "cell_type": "code",
   "execution_count": 163,
   "source": [
    "function log1p_series_shifted(x)\n",
    "\n",
    "    left = sqrt(2.)/2 - 1\n",
    "    right = sqrt(2.) - 1\n",
    "    sum = 0\n",
    "\n",
    "    if x < left\n",
    "        sum -= log(2.) / 2\n",
    "        x = 1 + 2 * x;\n",
    "    elseif right < x\n",
    "        sum += log(2.) / 2\n",
    "        x = (x - 1) / 2\n",
    "    end\n",
    "  \n",
    "    y = x / (2. + x)\n",
    "    y2 = y*y\n",
    "    sum += y\n",
    "    y *= y2\n",
    "    sum += y / 3\n",
    "    y *= y2\n",
    "    sum += y / 5\n",
    "    y *= y2\n",
    "    sum += y / 7\n",
    "    \n",
    "    2 * sum\n",
    "end\n"
   ],
   "outputs": [
    {
     "data": {
      "text/plain": [
       "log1p_series_shifted (generic function with 1 method)"
      ]
     },
     "metadata": {},
     "output_type": "display_data"
    }
   ],
   "metadata": {}
  },
  {
   "cell_type": "code",
   "execution_count": 164,
   "source": [
    "# E2work is a voigt (size 6)\n",
    "function computeDetCM1(E2work) \n",
    "\n",
    "    E2work[1]*(E2work[2]*E2work[3]-E2work[4]*E2work[4]) +\n",
    "    E2work[6]*(E2work[5]*E2work[4]-E2work[6]*E2work[3]) +\n",
    "    E2work[5]*(E2work[6]*E2work[4]-E2work[5]*E2work[2]) +\n",
    "    E2work[1] + E2work[2] + E2work[3] +\n",
    "    E2work[1]*E2work[2] + E2work[1]*E2work[3] +\n",
    "    E2work[2]*E2work[3] - E2work[6]*E2work[6] -\n",
    "    E2work[5]*E2work[5] - E2work[4]*E2work[4]\n",
    "end"
   ],
   "outputs": [
    {
     "data": {
      "text/plain": [
       "computeDetCM1 (generic function with 1 method)"
      ]
     },
     "metadata": {},
     "output_type": "display_data"
    }
   ],
   "metadata": {}
  },
  {
   "cell_type": "code",
   "execution_count": 165,
   "source": [
    "function computeMatinvSym(A, detA, Ainv)\n",
    "  \n",
    "  # Compute A^(-1) : A-Inverse\n",
    "  B = [ A[2,2]*A[3,3] - A[2,3]*A[3,2],\n",
    "        A[1,1]*A[3,3] - A[1,3]*A[3,1],\n",
    "        A[1,1]*A[2,2] - A[1,2]*A[2,1],\n",
    "        A[1,3]*A[2,1] - A[1,1]*A[2,3],\n",
    "        A[1,2]*A[2,3] - A[1,3]*A[2,2], \n",
    "        A[1,3]*A[3,2] - A[1,2]*A[3,3]\n",
    "      ]\n",
    "\n",
    "  for m in 1:6\n",
    "    Ainv[m] = B[m] / (detA)\n",
    "  end\n",
    "\n",
    "end"
   ],
   "outputs": [
    {
     "data": {
      "text/plain": [
       "computeMatinvSym (generic function with 1 method)"
      ]
     },
     "metadata": {},
     "output_type": "display_data"
    }
   ],
   "metadata": {}
  },
  {
   "cell_type": "code",
   "execution_count": 166,
   "source": [
    "function computeS(E2work, Swork, lambda, mu)\n",
    "\n",
    "      E2 = [ \n",
    "              E2work[1] E2work[6] E2work[5];\n",
    "              E2work[6] E2work[2] E2work[4];\n",
    "              E2work[5] E2work[4] E2work[3]\n",
    "           ]\n",
    "   \n",
    "      C = [ \n",
    "            1+E2[1,1] E2[1,2]   E2[1,3];\n",
    "            E2[1,2]   1+E2[2,2] E2[2,3];\n",
    "            E2[1,3]   E2[2,3]   1+E2[3,3]\n",
    "         ]\n",
    "\n",
    "      Cinvwork = zeros(6)\n",
    "      detCm1 = computeDetCM1(E2work)\n",
    "      computeMatinvSym(C, detCm1+1, Cinvwork)\n",
    "      \n",
    "      C_inv = [ \n",
    "                Cinvwork[1] Cinvwork[6] Cinvwork[5];\n",
    "                Cinvwork[6] Cinvwork[2] Cinvwork[4];\n",
    "                Cinvwork[5] Cinvwork[4] Cinvwork[3]\n",
    "              ]\n",
    "\n",
    "      logJ = log1p_series_shifted(detCm1) / 2.\n",
    "\n",
    "      indj = [1 2 3 2 1 1]\n",
    "      indk = [1 2 3 3 3 2]\n",
    "      Swork = zeros(6)\n",
    "      for m in 1:6\n",
    "            Swork[m] = lambda*logJ*Cinvwork[m]\n",
    "            for n in 1:3\n",
    "                  Swork[m] += mu*C_inv[indj[m], n]*E2[n, indk[m]]\n",
    "            end\n",
    "      end\n",
    "\n",
    "      Swork\n",
    "end\n"
   ],
   "outputs": [
    {
     "data": {
      "text/plain": [
       "computeS (generic function with 1 method)"
      ]
     },
     "metadata": {},
     "output_type": "display_data"
    }
   ],
   "metadata": {}
  },
  {
   "cell_type": "code",
   "execution_count": 167,
   "source": [
    "# Run an example\n",
    "E = .3\n",
    "nu = .3\n",
    "TwoMu = E / (1 + nu)\n",
    "mu = TwoMu / 2\n",
    "Kbulk = E / (3*(1 - 2*nu)) # Bulk Modulus\n",
    "lambda = (3*Kbulk - TwoMu) / 3\n",
    "E2work = [\n",
    "    0.5895232828911128,\n",
    "    0.2362491738162759,\n",
    "    0.9793730522395296,\n",
    "    0.2190993957421843,\n",
    "    0.0126503210747925,\n",
    "    0.6570956167695403\n",
    "]\n",
    "detCm1 = computeDetCM1(E2work)"
   ],
   "outputs": [
    {
     "data": {
      "text/plain": [
       "1.9620580003448598"
      ]
     },
     "metadata": {},
     "output_type": "display_data"
    }
   ],
   "metadata": {}
  },
  {
   "cell_type": "code",
   "execution_count": 168,
   "source": [
    "Swork = zeros(6)\n",
    "computeS(E2work, Swork, lambda, mu)"
   ],
   "outputs": [
    {
     "data": {
      "text/plain": [
       "6-element Vector{Float64}:\n",
       "  0.09804135870174864\n",
       "  0.09264024123615376\n",
       "  0.10429999576217747\n",
       "  0.00245763855177966\n",
       " -0.000927749557766931\n",
       "  0.009382774573284715"
      ]
     },
     "metadata": {},
     "output_type": "display_data"
    }
   ],
   "metadata": {}
  },
  {
   "cell_type": "code",
   "execution_count": 169,
   "source": [
    "# deltaEwork = rand(6)\n",
    "deltaEwork = [\n",
    "    0.9681576729097205,\n",
    "    0.7994338113484318,\n",
    "    0.2755183472001872,\n",
    "    0.6500440500146469,\n",
    "    0.0593948875992271,\n",
    "    0.6002528007029311\n",
    "]\n"
   ],
   "outputs": [
    {
     "data": {
      "text/plain": [
       "6-element Vector{Float64}:\n",
       " 0.9681576729097205\n",
       " 0.7994338113484318\n",
       " 0.2755183472001872\n",
       " 0.6500440500146469\n",
       " 0.0593948875992271\n",
       " 0.6002528007029311"
      ]
     },
     "metadata": {},
     "output_type": "display_data"
    }
   ],
   "metadata": {}
  },
  {
   "cell_type": "code",
   "execution_count": 170,
   "source": [
    "deltaE = [ \n",
    "            deltaEwork[1] deltaEwork[6] deltaEwork[5];\n",
    "            deltaEwork[6] deltaEwork[2] deltaEwork[4];\n",
    "            deltaEwork[5] deltaEwork[4] deltaEwork[3]\n",
    "         ]"
   ],
   "outputs": [
    {
     "data": {
      "text/plain": [
       "3×3 Matrix{Float64}:\n",
       " 0.968158   0.600253  0.0593949\n",
       " 0.600253   0.799434  0.650044\n",
       " 0.0593949  0.650044  0.275518"
      ]
     },
     "metadata": {},
     "output_type": "display_data"
    }
   ],
   "metadata": {}
  },
  {
   "cell_type": "code",
   "execution_count": 171,
   "source": [
    "E2 = [ \n",
    "        E2work[1] E2work[6] E2work[5];\n",
    "        E2work[6] E2work[2] E2work[4];\n",
    "        E2work[5] E2work[4] E2work[3]\n",
    "     ]\n"
   ],
   "outputs": [
    {
     "data": {
      "text/plain": [
       "3×3 Matrix{Float64}:\n",
       " 0.589523   0.657096  0.0126503\n",
       " 0.657096   0.236249  0.219099\n",
       " 0.0126503  0.219099  0.979373"
      ]
     },
     "metadata": {},
     "output_type": "display_data"
    }
   ],
   "metadata": {}
  },
  {
   "cell_type": "code",
   "execution_count": 172,
   "source": [
    "C = [ \n",
    "      1+E2[1,1] E2[1,2]   E2[1,3];\n",
    "      E2[1,2]   1+E2[2,2] E2[2,3];\n",
    "      E2[1,3]   E2[2,3]   1+E2[3,3]\n",
    "    ]\n",
    "\n"
   ],
   "outputs": [
    {
     "data": {
      "text/plain": [
       "3×3 Matrix{Float64}:\n",
       " 1.58952    0.657096  0.0126503\n",
       " 0.657096   1.23625   0.219099\n",
       " 0.0126503  0.219099  1.97937"
      ]
     },
     "metadata": {},
     "output_type": "display_data"
    }
   ],
   "metadata": {}
  },
  {
   "cell_type": "code",
   "execution_count": 173,
   "source": [
    "Cinvwork = zeros(6)\n",
    "computeMatinvSym(C, detCm1+1, Cinvwork)\n",
    "\n",
    "C_inv = [ \n",
    "           Cinvwork[1] Cinvwork[6] Cinvwork[5];\n",
    "           Cinvwork[6] Cinvwork[2] Cinvwork[4];\n",
    "           Cinvwork[5] Cinvwork[4] Cinvwork[3] \n",
    "        ]"
   ],
   "outputs": [
    {
     "data": {
      "text/plain": [
       "3×3 Matrix{Float64}:\n",
       "  0.809908   -0.438163   0.0433247\n",
       " -0.438163    1.06213   -0.114769\n",
       "  0.0433247  -0.114769   0.517637"
      ]
     },
     "metadata": {},
     "output_type": "display_data"
    }
   ],
   "metadata": {}
  },
  {
   "cell_type": "code",
   "execution_count": 174,
   "source": [
    "Cinv_contract_E = 0;\n",
    "for j in 1:3\n",
    "    for k in 1:3\n",
    "        Cinv_contract_E += C_inv[j,k]*deltaE[j,k]\n",
    "    end\n",
    "end\n",
    "Cinv_contract_E\n"
   ],
   "outputs": [
    {
     "data": {
      "text/plain": [
       "1.1057616252030331"
      ]
     },
     "metadata": {},
     "output_type": "display_data"
    }
   ],
   "metadata": {}
  },
  {
   "cell_type": "code",
   "execution_count": 175,
   "source": [
    "deltaECinv = zeros(3,3)\n",
    "for j in 1:3\n",
    "    for k in 1:3\n",
    "        deltaECinv[j, k] = 0\n",
    "        for m in 1:3\n",
    "            deltaECinv[j, k] += deltaE[j, m]*C_inv[m, k]\n",
    "        end\n",
    "    end\n",
    "end\n",
    "deltaECinv"
   ],
   "outputs": [
    {
     "data": {
      "text/plain": [
       "3×3 Matrix{Float64}:\n",
       "  0.523683  0.20652   0.00380002\n",
       "  0.16403   0.511492  0.270743\n",
       " -0.224784  0.632788  0.0705873"
      ]
     },
     "metadata": {},
     "output_type": "display_data"
    }
   ],
   "metadata": {}
  },
  {
   "cell_type": "code",
   "execution_count": 176,
   "source": [
    "logJ = log1p_series_shifted(detCm1) / 2."
   ],
   "outputs": [
    {
     "data": {
      "text/plain": [
       "0.5429421041864513"
      ]
     },
     "metadata": {},
     "output_type": "display_data"
    }
   ],
   "metadata": {}
  },
  {
   "cell_type": "code",
   "execution_count": 177,
   "source": [
    "deltaS = zeros(3,3)\n",
    "for j in 1:3\n",
    "    for k in 1:3\n",
    "        for m in 1:3\n",
    "            deltaS[j, k] += C_inv[j, m]*deltaECinv[m, k]\n",
    "        end\n",
    "    end\n",
    "end\n",
    " \n",
    "for j in 1:3\n",
    "    for k in 1:3\n",
    "        deltaS[j, k] = lambda*Cinv_contract_E*C_inv[j, k] - 2 *(lambda*logJ-mu)*deltaS[j, k]\n",
    "    end\n",
    "end\n",
    "\n",
    "deltaS"
   ],
   "outputs": [
    {
     "data": {
      "text/plain": [
       "3×3 Matrix{Float64}:\n",
       "  0.169671   -0.0851173   0.0034737\n",
       " -0.0851173   0.219554   -0.0100671\n",
       "  0.0034737  -0.0100671   0.0993075"
      ]
     },
     "metadata": {},
     "output_type": "display_data"
    }
   ],
   "metadata": {}
  },
  {
   "cell_type": "code",
   "execution_count": 178,
   "source": [],
   "outputs": [],
   "metadata": {}
  }
 ],
 "metadata": {
  "kernelspec": {
   "display_name": "Julia 1.6.2",
   "language": "julia",
   "name": "julia-1.6"
  },
  "language_info": {
   "name": "julia",
   "version": "1.6.2",
   "mimetype": "application/julia",
   "file_extension": ".jl"
  }
 },
 "nbformat": 4,
 "nbformat_minor": 5
}