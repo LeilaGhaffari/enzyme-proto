{
 "cells": [
  {
   "cell_type": "code",
   "execution_count": 74,
   "source": [
    "using Enzyme"
   ],
   "outputs": [],
   "metadata": {}
  },
  {
   "cell_type": "code",
   "execution_count": 75,
   "source": [
    "function log1p_series_shifted(x)\n",
    "\n",
    "    left = sqrt(2.)/2 - 1\n",
    "    right = sqrt(2.) - 1\n",
    "    sum = 0\n",
    "\n",
    "    if x < left\n",
    "        sum -= log(2.) / 2\n",
    "        x = 1 + 2 * x;\n",
    "    elseif right < x\n",
    "        sum += log(2.) / 2\n",
    "        x = (x - 1) / 2\n",
    "    end\n",
    "  \n",
    "    y = x / (2. + x)\n",
    "    y2 = y*y\n",
    "    sum += y\n",
    "    y *= y2\n",
    "    sum += y / 3\n",
    "    y *= y2\n",
    "    sum += y / 5\n",
    "    y *= y2\n",
    "    sum += y / 7\n",
    "    \n",
    "    2 * sum\n",
    "end\n"
   ],
   "outputs": [
    {
     "data": {
      "text/plain": [
       "log1p_series_shifted (generic function with 1 method)"
      ]
     },
     "metadata": {},
     "output_type": "display_data"
    }
   ],
   "metadata": {}
  },
  {
   "cell_type": "code",
   "execution_count": 76,
   "source": [
    "# E2work is a voigt (size 6)\n",
    "function computeDetCM1(E2work) \n",
    "\n",
    "    E2work[1]*(E2work[2]*E2work[3]-E2work[4]*E2work[4]) +\n",
    "    E2work[6]*(E2work[5]*E2work[4]-E2work[6]*E2work[3]) +\n",
    "    E2work[5]*(E2work[6]*E2work[4]-E2work[5]*E2work[2]) +\n",
    "    E2work[1] + E2work[2] + E2work[3] +\n",
    "    E2work[1]*E2work[2] + E2work[1]*E2work[3] +\n",
    "    E2work[2]*E2work[3] - E2work[6]*E2work[6] -\n",
    "    E2work[5]*E2work[5] - E2work[4]*E2work[4]\n",
    "end"
   ],
   "outputs": [
    {
     "data": {
      "text/plain": [
       "computeDetCM1 (generic function with 1 method)"
      ]
     },
     "metadata": {},
     "output_type": "display_data"
    }
   ],
   "metadata": {}
  },
  {
   "cell_type": "code",
   "execution_count": 77,
   "source": [
    "function computeMatinvSym(A, detA, Ainv)\n",
    "  \n",
    "  # Compute A^(-1) : A-Inverse\n",
    "  B = [ A[2][2]*A[3][3] - A[2][3]*A[3][2],\n",
    "        A[1][1]*A[3][3] - A[1][3]*A[3][1],\n",
    "        A[1][1]*A[2][2] - A[1][2]*A[2][1],\n",
    "        A[1][3]*A[2][1] - A[1][1]*A[2][3],\n",
    "        A[1][2]*A[2][3] - A[1][3]*A[2][2], \n",
    "        A[1][3]*A[3][2] - A[1][2]*A[3][3]\n",
    "      ]\n",
    "\n",
    "  for m in 1:6\n",
    "    Ainv[m] = B[m] / (detA)\n",
    "  end\n",
    "\n",
    "end"
   ],
   "outputs": [
    {
     "data": {
      "text/plain": [
       "computeMatinvSym (generic function with 1 method)"
      ]
     },
     "metadata": {},
     "output_type": "display_data"
    }
   ],
   "metadata": {}
  },
  {
   "cell_type": "code",
   "execution_count": 78,
   "source": [
    "function computeS(E2work, Swork, lambda, mu)\n",
    "\n",
    "      E2 = [ \n",
    "              [ E2work[1] E2work[6] E2work[5] ],\n",
    "              [ E2work[6] E2work[2] E2work[4] ],\n",
    "              [ E2work[5] E2work[4] E2work[3] ]\n",
    "           ]\n",
    "   \n",
    "      C = [ \n",
    "            [ 1+E2[1][1] E2[1][2]   E2[1][3]   ],\n",
    "            [ E2[1][2]   1+E2[2][2] E2[2][3]   ],\n",
    "            [ E2[1][3]   E2[2][3]   1+E2[3][3] ]\n",
    "         ]\n",
    "\n",
    "      Cinvwork = zeros(6)\n",
    "      detCm1 = computeDetCM1(E2work)\n",
    "      computeMatinvSym(C, detCm1+1, Cinvwork)\n",
    "\n",
    "      C_inv = [ \n",
    "                [ Cinvwork[1] Cinvwork[6] Cinvwork[5] ],\n",
    "                [ Cinvwork[6] Cinvwork[2] Cinvwork[4] ],\n",
    "                [ Cinvwork[5] Cinvwork[4] Cinvwork[3] ]\n",
    "              ]\n",
    "\n",
    "      logJ = log1p_series_shifted(detCm1) / 2.\n",
    "\n",
    "      indj = [1 2 3 2 1 1]\n",
    "      indk = [1 2 3 3 3 2]\n",
    "\n",
    "      for m in 1:6\n",
    "            Swork[m] = lambda*logJ*Cinvwork[m]\n",
    "            for n in 1:3\n",
    "                  Swork[m] += mu*C_inv[indj[m]][n]*E2[n][indk[m]]\n",
    "            end\n",
    "      end\n",
    "\n",
    "      Swork\n",
    "end\n"
   ],
   "outputs": [
    {
     "data": {
      "text/plain": [
       "computeS (generic function with 1 method)"
      ]
     },
     "metadata": {},
     "output_type": "display_data"
    }
   ],
   "metadata": {}
  },
  {
   "cell_type": "code",
   "execution_count": 79,
   "source": [
    "# Run an example\n",
    "E = .3\n",
    "nu = .3\n",
    "TwoMu = E / (1 + nu)\n",
    "mu = TwoMu / 2\n",
    "Kbulk = E / (3*(1 - 2*nu)) # Bulk Modulus\n",
    "lambda = (3*Kbulk - TwoMu) / 3\n",
    "E2work = [0.5895232828911128,\n",
    "          0.23624917381627597,\n",
    "          0.9793730522395296,\n",
    "          0.2190993957421843,\n",
    "          0.012650321074792581,\n",
    "          0.6570956167695403]\n"
   ],
   "outputs": [
    {
     "data": {
      "text/plain": [
       "6-element Vector{Float64}:\n",
       " 0.5895232828911128\n",
       " 0.23624917381627597\n",
       " 0.9793730522395296\n",
       " 0.2190993957421843\n",
       " 0.012650321074792581\n",
       " 0.6570956167695403"
      ]
     },
     "metadata": {},
     "output_type": "display_data"
    }
   ],
   "metadata": {}
  },
  {
   "cell_type": "code",
   "execution_count": 80,
   "source": [
    "Swork = computeS(E2work, Swork, lambda, mu)"
   ],
   "outputs": [
    {
     "data": {
      "text/plain": [
       "6-element Vector{Float64}:\n",
       "  0.09804135870174864\n",
       "  0.09264024123615378\n",
       "  0.10429999576217747\n",
       "  0.0024576385517796635\n",
       " -0.0009277495577669327\n",
       "  0.009382774573284708"
      ]
     },
     "metadata": {},
     "output_type": "display_data"
    }
   ],
   "metadata": {}
  },
  {
   "cell_type": "code",
   "execution_count": 81,
   "source": [],
   "outputs": [],
   "metadata": {}
  }
 ],
 "metadata": {
  "kernelspec": {
   "display_name": "Julia 1.6.2",
   "language": "julia",
   "name": "julia-1.6"
  },
  "language_info": {
   "name": "julia",
   "version": "1.6.2",
   "mimetype": "application/julia",
   "file_extension": ".jl"
  }
 },
 "nbformat": 4,
 "nbformat_minor": 5
}