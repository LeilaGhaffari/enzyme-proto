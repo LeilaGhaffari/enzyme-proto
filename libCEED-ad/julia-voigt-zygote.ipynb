{
 "cells": [
  {
   "cell_type": "code",
   "execution_count": 1,
   "id": "3abb1605",
   "metadata": {},
   "outputs": [
    {
     "data": {
      "text/plain": [
       "log1p_series_shifted (generic function with 1 method)"
      ]
     },
     "metadata": {},
     "output_type": "display_data"
    }
   ],
   "source": [
    "function log1p_series_shifted(x)\n",
    "\n",
    "    left = sqrt(2.)/2 - 1\n",
    "    right = sqrt(2.) - 1\n",
    "    sum = 0\n",
    "\n",
    "    if x < left\n",
    "        sum -= log(2.) / 2\n",
    "        x = 1 + 2 * x;\n",
    "    elseif right < x\n",
    "        sum += log(2.) / 2\n",
    "        x = (x - 1) / 2\n",
    "    end\n",
    "  \n",
    "    y = x / (2. + x)\n",
    "    y2 = y*y\n",
    "    sum += y\n",
    "    y *= y2\n",
    "    sum += y / 3\n",
    "    y *= y2\n",
    "    sum += y / 5\n",
    "    y *= y2\n",
    "    sum += y / 7\n",
    "    \n",
    "    2 * sum\n",
    "end\n"
   ]
  },
  {
   "cell_type": "code",
   "execution_count": 2,
   "id": "b4fba850",
   "metadata": {},
   "outputs": [
    {
     "data": {
      "text/plain": [
       "computeDetCM1 (generic function with 1 method)"
      ]
     },
     "metadata": {},
     "output_type": "display_data"
    }
   ],
   "source": [
    "# E2work is a voigt (size 6)\n",
    "function computeDetCM1(E2work) \n",
    "\n",
    "    E2work[1]*(E2work[2]*E2work[3]-E2work[4]*E2work[4]) +\n",
    "    E2work[6]*(E2work[5]*E2work[4]-E2work[6]*E2work[3]) +\n",
    "    E2work[5]*(E2work[6]*E2work[4]-E2work[5]*E2work[2]) +\n",
    "    E2work[1] + E2work[2] + E2work[3] +\n",
    "    E2work[1]*E2work[2] + E2work[1]*E2work[3] +\n",
    "    E2work[2]*E2work[3] - E2work[6]*E2work[6] -\n",
    "    E2work[5]*E2work[5] - E2work[4]*E2work[4]\n",
    "end"
   ]
  },
  {
   "cell_type": "code",
   "execution_count": 3,
   "id": "1e25d015",
   "metadata": {},
   "outputs": [
    {
     "data": {
      "text/plain": [
       "computeMatinvSym (generic function with 1 method)"
      ]
     },
     "metadata": {},
     "output_type": "display_data"
    }
   ],
   "source": [
    "function computeMatinvSym(A, detA, Ainv)\n",
    "  \n",
    "  # Compute A^(-1) : A-Inverse\n",
    "  B = [ A[2,2]*A[3,3] - A[2,3]*A[3,2],\n",
    "        A[1,1]*A[3,3] - A[1,3]*A[3,1],\n",
    "        A[1,1]*A[2,2] - A[1,2]*A[2,1],\n",
    "        A[1,3]*A[2,1] - A[1,1]*A[2,3],\n",
    "        A[1,2]*A[2,3] - A[1,3]*A[2,2], \n",
    "        A[1,3]*A[3,2] - A[1,2]*A[3,3]\n",
    "      ]\n",
    "\n",
    "  for m in 1:6\n",
    "    Ainv[m] = B[m] / (detA)\n",
    "  end\n",
    "\n",
    "end"
   ]
  },
  {
   "cell_type": "code",
   "execution_count": 4,
   "id": "4dd9f5b9",
   "metadata": {},
   "outputs": [
    {
     "data": {
      "text/plain": [
       "computeS! (generic function with 1 method)"
      ]
     },
     "metadata": {},
     "output_type": "display_data"
    }
   ],
   "source": [
    "function computeS!(E2work, Swork, lambda, mu)\n",
    "\n",
    "      E2 = [ \n",
    "              E2work[1] E2work[6] E2work[5];\n",
    "              E2work[6] E2work[2] E2work[4];\n",
    "              E2work[5] E2work[4] E2work[3]\n",
    "           ]\n",
    "   \n",
    "      C = [ \n",
    "            1+E2[1,1] E2[1,2]   E2[1,3];\n",
    "            E2[1,2]   1+E2[2,2] E2[2,3];\n",
    "            E2[1,3]   E2[2,3]   1+E2[3,3]\n",
    "         ]\n",
    "\n",
    "      Cinvwork = zeros(6)\n",
    "      detCm1 = computeDetCM1(E2work)\n",
    "      computeMatinvSym(C, detCm1+1, Cinvwork)\n",
    "      \n",
    "      C_inv = [ \n",
    "                Cinvwork[1] Cinvwork[6] Cinvwork[5];\n",
    "                Cinvwork[6] Cinvwork[2] Cinvwork[4];\n",
    "                Cinvwork[5] Cinvwork[4] Cinvwork[3]\n",
    "              ]\n",
    "\n",
    "      logJ = log1p_series_shifted(detCm1) / 2.\n",
    "\n",
    "      indj = [1 2 3 2 1 1]\n",
    "      indk = [1 2 3 3 3 2]\n",
    "      Swork = zeros(6)\n",
    "      for m in 1:6\n",
    "            Swork[m] = lambda*logJ*Cinvwork[m]\n",
    "            for n in 1:3\n",
    "                  Swork[m] += mu*C_inv[indj[m], n]*E2[n, indk[m]]\n",
    "            end\n",
    "      end\n",
    "      nothing\n",
    "end\n"
   ]
  },
  {
   "cell_type": "code",
   "execution_count": 5,
   "id": "219158e5",
   "metadata": {},
   "outputs": [
    {
     "data": {
      "text/plain": [
       "1.9620580003448598"
      ]
     },
     "metadata": {},
     "output_type": "display_data"
    }
   ],
   "source": [
    "# Run an example\n",
    "E = .3\n",
    "nu = .3\n",
    "TwoMu = E / (1 + nu)\n",
    "mu = TwoMu / 2\n",
    "Kbulk = E / (3*(1 - 2*nu)) # Bulk Modulus\n",
    "lambda = (3*Kbulk - TwoMu) / 3\n",
    "E2work = [\n",
    "    0.5895232828911128,\n",
    "    0.2362491738162759,\n",
    "    0.9793730522395296,\n",
    "    0.2190993957421843,\n",
    "    0.0126503210747925,\n",
    "    0.6570956167695403\n",
    "]\n",
    "detCm1 = computeDetCM1(E2work)"
   ]
  },
  {
   "cell_type": "code",
   "execution_count": 6,
   "id": "da3a2fd4",
   "metadata": {},
   "outputs": [],
   "source": [
    "Swork = zeros(6)\n",
    "computeS!(E2work, Swork, lambda, mu)"
   ]
  },
  {
   "cell_type": "code",
   "execution_count": 7,
   "id": "c5dc0292",
   "metadata": {
    "scrolled": true
   },
   "outputs": [
    {
     "data": {
      "text/plain": [
       "6-element Vector{Float64}:\n",
       " 1.0\n",
       " 1.0\n",
       " 1.0\n",
       " 1.0\n",
       " 1.0\n",
       " 1.0"
      ]
     },
     "metadata": {},
     "output_type": "display_data"
    }
   ],
   "source": [
    "∂z_∂E2work = zeros(6)\n",
    "∂z_∂Swork = fill!((similar(Swork)), 1)"
   ]
  },
  {
   "cell_type": "code",
   "execution_count": 8,
   "id": "721b387b",
   "metadata": {},
   "outputs": [
    {
     "data": {
      "text/plain": [
       "6-element Vector{Float64}:\n",
       " 0.019970414201183423\n",
       " 0.019970414201183423\n",
       " 0.019970414201183423\n",
       " 0.019970414201183423\n",
       " 0.019970414201183423\n",
       " 0.019970414201183423"
      ]
     },
     "metadata": {},
     "output_type": "display_data"
    }
   ],
   "source": [
    "using Zygote\n",
    "Zygote.pullback(*, E2work, lambda, mu)[2](∂z_∂Swork )[1]"
   ]
  },
  {
   "cell_type": "code",
   "execution_count": 9,
   "id": "15881b1f",
   "metadata": {},
   "outputs": [],
   "source": []
  }
 ],
 "metadata": {
  "kernelspec": {
   "display_name": "Julia 1.6.2",
   "language": "julia",
   "name": "julia-1.6"
  },
  "language_info": {
   "file_extension": ".jl",
   "mimetype": "application/julia",
   "name": "julia",
   "version": "1.6.2"
  }
 },
 "nbformat": 4,
 "nbformat_minor": 5
}
