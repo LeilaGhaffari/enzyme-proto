{
 "cells": [
  {
   "cell_type": "code",
   "execution_count": 1,
   "id": "7a1d3146",
   "metadata": {
    "scrolled": true
   },
   "outputs": [
    {
     "data": {
      "text/plain": [
       "3-element Vector{Float64}:\n",
       " 0.5531383502892162\n",
       " 0.3525200901942158\n",
       " 0.031487857284700604"
      ]
     },
     "execution_count": 1,
     "metadata": {},
     "output_type": "execute_result"
    }
   ],
   "source": [
    "using Enzyme\n",
    "\n",
    "function velocity!(u, x)\n",
    "    \n",
    "    for i in 1:3\n",
    "        u[i] = x[i] * x[i]\n",
    "    end\n",
    "    nothing\n",
    "end\n",
    "\n",
    "x = rand(3)"
   ]
  },
  {
   "cell_type": "code",
   "execution_count": 2,
   "id": "9700ce15",
   "metadata": {},
   "outputs": [],
   "source": [
    "u = zeros(3)\n",
    "deltaU = zeros(3,3)\n",
    "\n",
    "for i in 1:3\n",
    "    dx = zeros(3)\n",
    "    du = zeros(3)\n",
    "    du[i] = 1\n",
    "    Enzyme.autodiff(velocity!, Const, Duplicated(u, du), Duplicated(x, dx))\n",
    "    deltaU[i,:] = dx\n",
    "end"
   ]
  },
  {
   "cell_type": "code",
   "execution_count": 3,
   "id": "fe8bfe53",
   "metadata": {},
   "outputs": [
    {
     "data": {
      "text/plain": [
       "3×3 Matrix{Float64}:\n",
       " 1.10628  0.0      0.0\n",
       " 0.0      0.70504  0.0\n",
       " 0.0      0.0      0.0629757"
      ]
     },
     "execution_count": 3,
     "metadata": {},
     "output_type": "execute_result"
    }
   ],
   "source": [
    "deltaU"
   ]
  },
  {
   "cell_type": "code",
   "execution_count": null,
   "id": "87c3f0ff",
   "metadata": {},
   "outputs": [],
   "source": []
  }
 ],
 "metadata": {
  "kernelspec": {
   "display_name": "Julia 1.6.2",
   "language": "julia",
   "name": "julia-1.6"
  },
  "language_info": {
   "file_extension": ".jl",
   "mimetype": "application/julia",
   "name": "julia",
   "version": "1.6.2"
  }
 },
 "nbformat": 4,
 "nbformat_minor": 5
}
