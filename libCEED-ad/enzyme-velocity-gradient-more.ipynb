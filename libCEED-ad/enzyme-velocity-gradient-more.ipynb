{
 "cells": [
  {
   "cell_type": "code",
   "execution_count": 2,
   "id": "7a1d3146",
   "metadata": {
    "scrolled": true
   },
   "outputs": [
    {
     "data": {
      "text/plain": [
       "3-element Vector{Float64}:\n",
       " 0.7428839934549221\n",
       " 0.5048739222425671\n",
       " 0.09766249467142774"
      ]
     },
     "execution_count": 2,
     "metadata": {},
     "output_type": "execute_result"
    }
   ],
   "source": [
    "using Enzyme\n",
    "\n",
    "function velocity!(u, x)\n",
    "    \n",
    "    for i in 1:3\n",
    "        u[i] = x[i] * x[i] + 2 * x[1] - x[2] + 5 * x[3]\n",
    "    end\n",
    "    nothing\n",
    "end\n",
    "\n",
    "x = rand(3)"
   ]
  },
  {
   "cell_type": "code",
   "execution_count": 6,
   "id": "9700ce15",
   "metadata": {},
   "outputs": [],
   "source": [
    "u = zeros(3)\n",
    "deltaU = zeros(3,3)\n",
    "\n",
    "for i in 1:3\n",
    "    dx = zeros(3)\n",
    "    du = zeros(3)\n",
    "    du[i] = 1\n",
    "    Enzyme.autodiff(velocity!, Const, Duplicated(u, du), Duplicated(x, dx))\n",
    "    deltaU[i,:] = dx\n",
    "end"
   ]
  },
  {
   "cell_type": "code",
   "execution_count": 7,
   "id": "fe8bfe53",
   "metadata": {},
   "outputs": [
    {
     "data": {
      "text/plain": [
       "3×3 Matrix{Float64}:\n",
       " 3.48577  -1.0         5.0\n",
       " 2.0       0.00974784  5.0\n",
       " 2.0      -1.0         5.19532"
      ]
     },
     "execution_count": 7,
     "metadata": {},
     "output_type": "execute_result"
    }
   ],
   "source": [
    "deltaU"
   ]
  },
  {
   "cell_type": "code",
   "execution_count": null,
   "id": "87c3f0ff",
   "metadata": {},
   "outputs": [],
   "source": []
  }
 ],
 "metadata": {
  "kernelspec": {
   "display_name": "Julia 1.6.2",
   "language": "julia",
   "name": "julia-1.6"
  },
  "language_info": {
   "file_extension": ".jl",
   "mimetype": "application/julia",
   "name": "julia",
   "version": "1.6.2"
  }
 },
 "nbformat": 4,
 "nbformat_minor": 5
}
