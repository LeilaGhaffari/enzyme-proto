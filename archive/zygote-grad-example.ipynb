{
 "cells": [
  {
   "cell_type": "code",
   "execution_count": 1,
   "id": "55442d5a",
   "metadata": {},
   "outputs": [
    {
     "data": {
      "text/plain": [
       "\u001b[32m\u001b[1mTest Passed\u001b[22m\u001b[39m\n",
       "      Thrown: ArgumentError"
      ]
     },
     "metadata": {},
     "output_type": "display_data"
    }
   ],
   "source": [
    "using Zygote, Test\n",
    "\n",
    "w, x1, x2, b = rand(2), rand(2), rand(2), rand(2)\n",
    "\n",
    "gs1 = gradient(() -> sum(tanh.(w .* x1 .+ b)), Params([w, b]))\n",
    "gs2 = gradient(() -> sum(tanh.(w .* x2 .+ b)), Params([w, b]))\n",
    "\n",
    "# accumulate gradients\n",
    "gs = gs1 .+ gs2\n",
    "@test gs[w] ≈ gs1[w] + gs2[w]\n",
    "@test gs[b] ≈ gs1[b] + gs2[b]\n",
    "\n",
    "# gradients and IdDict interact nicely\n",
    "# note that an IdDict must be used for gradient algebra on the GPU\n",
    "gs .+= IdDict(p => randn(size(p)) for p in keys(gs))\n",
    "\n",
    "# clip gradients\n",
    "map(x -> clamp.(x, -0.1, 0.1), gs)\n",
    "\n",
    "# clip gradients in-place\n",
    "foreach(x -> clamp!(x, -0.1, 0.1), gs)\n",
    "\n",
    "for (p, g) in pairs(gs)\n",
    "  # do something with parameter `p` and corresponding gradient `g`\n",
    "end\n",
    "\n",
    "# note that gradients must be w.r.t. to the same parameter key set\n",
    "gs3 = gradient(() -> sum(tanh.(w .* x2)), Params([w]))\n",
    "# gs3 does not have the key b\n",
    "@test_throws ArgumentError gs1 .+ gs3"
   ]
  },
  {
   "cell_type": "code",
   "execution_count": 5,
   "id": "64b17e37",
   "metadata": {},
   "outputs": [],
   "source": []
  }
 ],
 "metadata": {
  "kernelspec": {
   "display_name": "Julia 1.6.2",
   "language": "julia",
   "name": "julia-1.6"
  },
  "language_info": {
   "file_extension": ".jl",
   "mimetype": "application/julia",
   "name": "julia",
   "version": "1.6.2"
  }
 },
 "nbformat": 4,
 "nbformat_minor": 5
}
